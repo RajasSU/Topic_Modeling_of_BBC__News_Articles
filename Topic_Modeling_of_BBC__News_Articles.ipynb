{
  "nbformat": 4,
  "nbformat_minor": 0,
  "metadata": {
    "colab": {
      "name": "Topic_Modeling_of_BBC _News_Articles",
      "provenance": [],
      "collapsed_sections": [],
      "toc_visible": true,
      "machine_shape": "hm"
    },
    "kernelspec": {
      "name": "python3",
      "display_name": "Python 3"
    }
  },
  "cells": [
    {
      "cell_type": "markdown",
      "metadata": {
        "id": "LFxmCMEUED_e"
      },
      "source": [
        ""
      ]
    },
    {
      "cell_type": "markdown",
      "metadata": {
        "id": "clrhTTkqAo98"
      },
      "source": [
        "# BBC Articles_Topic Modeling using NLP"
      ]
    },
    {
      "cell_type": "markdown",
      "metadata": {
        "id": "f0Lc3NTrDVrC"
      },
      "source": [
        "Topic Modelling is the process of extracting major themes from a given corpus of text data. In machine learning and natural language processing, a topic model is a type of statistical model for discovering the abstract \"topics\" that occur in a collection of documents."
      ]
    },
    {
      "cell_type": "markdown",
      "metadata": {
        "id": "jGQj8FWpAunY"
      },
      "source": [
        "### Importing Libraries"
      ]
    },
    {
      "cell_type": "code",
      "metadata": {
        "id": "847PejSG_ZEk"
      },
      "source": [
        "import pandas as pd\n",
        "from pprint import pprint\n",
        "\n",
        "# Gensim\n",
        "import gensim\n",
        "import gensim.corpora as corpora\n",
        "from gensim.utils import simple_preprocess\n",
        "from gensim.models import CoherenceModel\n",
        "\n",
        "# spacy for lemmatization\n",
        "import spacy\n",
        "\n",
        "# Plotting tools\n",
        "import pyLDAvis\n",
        "import pyLDAvis.gensim  # don't skip this\n",
        "import matplotlib.pyplot as plt\n",
        "%matplotlib inline\n",
        "\n",
        "# Enable logging for gensim - optional\n",
        "import logging\n",
        "logging.basicConfig(format='%(asctime)s : %(levelname)s : %(message)s', level=logging.ERROR)\n",
        "\n",
        "\n",
        "import nltk\n",
        "from nltk.corpus import stopwords\n",
        "import string\n",
        "import re\n",
        "from nltk.stem.wordnet import WordNetLemmatizer\n",
        "\n",
        "import warnings\n",
        "warnings.simplefilter('ignore')\n",
        "from itertools import chain"
      ],
      "execution_count": null,
      "outputs": []
    },
    {
      "cell_type": "markdown",
      "metadata": {
        "id": "_Tcv2dyIJYWy"
      },
      "source": [
        "### Importing Dataset"
      ]
    },
    {
      "cell_type": "markdown",
      "metadata": {
        "id": "TVODKkpYEd4Z"
      },
      "source": [
        "### About Data\r\n",
        "We have data set with information from 2,225 articles from the BBC, divided into 5 sections."
      ]
    },
    {
      "cell_type": "markdown",
      "metadata": {
        "id": "P5AweG6sJbxw"
      },
      "source": [
        "Mount the drive to collab file"
      ]
    },
    {
      "cell_type": "code",
      "metadata": {
        "id": "tB0e8F6OAKXb",
        "colab": {
          "base_uri": "https://localhost:8080/"
        },
        "outputId": "8757f848-8153-4b66-fe9a-9845157cdd13"
      },
      "source": [
        "from google.colab import drive\n",
        "drive.mount('/content/drive')"
      ],
      "execution_count": null,
      "outputs": [
        {
          "output_type": "stream",
          "text": [
            "Mounted at /content/drive\n"
          ],
          "name": "stdout"
        }
      ]
    },
    {
      "cell_type": "markdown",
      "metadata": {
        "id": "3UDbQPnjqlDB"
      },
      "source": [
        "#### For 'business' category/topic"
      ]
    },
    {
      "cell_type": "code",
      "metadata": {
        "id": "Egh0fkBFJkLO"
      },
      "source": [
        "import os\n",
        "import csv\n",
        "\n",
        "dirpath = '/content/drive/MyDrive/Tegger_Internship/bbc/business'\n",
        "output = '/content/drive/MyDrive/Tegger_Internship/bbc/Bfile.csv'\n",
        "with open(output, 'w') as outfile:\n",
        "    csvout = csv.writer(outfile)\n",
        "    csvout.writerow(['FileName', 'Content'])\n",
        "\n",
        "    files = os.listdir(dirpath)\n",
        "\n",
        "    for filename in files:\n",
        "        with open(dirpath + '/' + filename) as afile:\n",
        "            csvout.writerow([filename, afile.read()])\n",
        "            afile.close()\n",
        "\n",
        "    outfile.close()"
      ],
      "execution_count": null,
      "outputs": []
    },
    {
      "cell_type": "markdown",
      "metadata": {
        "id": "ztNV6EemqxDW"
      },
      "source": [
        "#### For 'entertainment' category/topic"
      ]
    },
    {
      "cell_type": "code",
      "metadata": {
        "id": "6JxEu3Womobn"
      },
      "source": [
        "import os\n",
        "import csv\n",
        "\n",
        "dirpath = '/content/drive/MyDrive/Tegger_Internship/bbc/entertainment'\n",
        "output = '/content/drive/MyDrive/Tegger_Internship/bbc/Efile.csv'\n",
        "with open(output, 'w') as outfile:\n",
        "    csvout = csv.writer(outfile)\n",
        "    csvout.writerow(['FileName', 'Content'])\n",
        "\n",
        "    files = os.listdir(dirpath)\n",
        "\n",
        "    for filename in files:\n",
        "        with open(dirpath + '/' + filename) as afile:\n",
        "            csvout.writerow([filename, afile.read()])\n",
        "            afile.close()\n",
        "\n",
        "    outfile.close()"
      ],
      "execution_count": null,
      "outputs": []
    },
    {
      "cell_type": "markdown",
      "metadata": {
        "id": "LfFNm5p5q1QO"
      },
      "source": [
        "#### For 'politics' category/topic"
      ]
    },
    {
      "cell_type": "code",
      "metadata": {
        "id": "gFHeW7rGrC4X"
      },
      "source": [
        "import os\n",
        "import csv\n",
        "\n",
        "dirpath = '/content/drive/MyDrive/Tegger_Internship/bbc/politics'\n",
        "output = '/content/drive/MyDrive/Tegger_Internship/bbc/Pfile.csv'\n",
        "with open(output, 'w') as outfile:\n",
        "    csvout = csv.writer(outfile)\n",
        "    csvout.writerow(['FileName', 'Content'])\n",
        "\n",
        "    files = os.listdir(dirpath)\n",
        "\n",
        "    for filename in files:\n",
        "        with open(dirpath + '/' + filename) as afile:\n",
        "            csvout.writerow([filename, afile.read()])\n",
        "            afile.close()\n",
        "\n",
        "    outfile.close()"
      ],
      "execution_count": null,
      "outputs": []
    },
    {
      "cell_type": "markdown",
      "metadata": {
        "id": "k_Jh5Bd4q6he"
      },
      "source": [
        "#### For 'sport' category/topic"
      ]
    },
    {
      "cell_type": "code",
      "metadata": {
        "id": "MrOwf1SarN_O"
      },
      "source": [
        "import os\n",
        "import csv\n",
        "\n",
        "dirpath = '/content/drive/MyDrive/Tegger_Internship/bbc/sport'\n",
        "output = '/content/drive/MyDrive/Tegger_Internship/bbc/Sfile.csv'\n",
        "with open(output, 'w') as outfile:\n",
        "    csvout = csv.writer(outfile)\n",
        "    csvout.writerow(['FileName', 'Content'])\n",
        "\n",
        "    files = os.listdir(dirpath)\n",
        "\n",
        "    for filename in files:\n",
        "        with open(dirpath + '/' + filename, encoding='utf8',errors='ignore') as afile:\n",
        "            csvout.writerow([filename, afile.read()])\n",
        "            afile.close()\n",
        "\n",
        "    outfile.close()"
      ],
      "execution_count": null,
      "outputs": []
    },
    {
      "cell_type": "markdown",
      "metadata": {
        "id": "0E9AdD9Lq-r3"
      },
      "source": [
        "#### For 'tech' category/topic"
      ]
    },
    {
      "cell_type": "code",
      "metadata": {
        "id": "UVxH6U3Ss_pH"
      },
      "source": [
        "import os\n",
        "import csv\n",
        "\n",
        "dirpath = '/content/drive/MyDrive/Tegger_Internship/bbc/tech'\n",
        "output = '/content/drive/MyDrive/Tegger_Internship/bbc/Tfile.csv'\n",
        "with open(output, 'w') as outfile:\n",
        "    csvout = csv.writer(outfile)\n",
        "    csvout.writerow(['FileName', 'Content'])\n",
        "\n",
        "    files = os.listdir(dirpath)\n",
        "\n",
        "    for filename in files:\n",
        "        with open(dirpath + '/' + filename) as afile:\n",
        "            csvout.writerow([filename, afile.read()])\n",
        "            afile.close()\n",
        "\n",
        "    outfile.close()"
      ],
      "execution_count": null,
      "outputs": []
    },
    {
      "cell_type": "code",
      "metadata": {
        "id": "EWM7q9WFzMSg"
      },
      "source": [
        "Bfile= pd.read_csv(\"/content/drive/MyDrive/Tegger_Internship/bbc/Bfile.csv\")\n",
        "Efile= pd.read_csv(\"/content/drive/MyDrive/Tegger_Internship/bbc/Efile.csv\")\n",
        "Pfile= pd.read_csv(\"/content/drive/MyDrive/Tegger_Internship/bbc/Pfile.csv\")\n",
        "Tfile= pd.read_csv(\"/content/drive/MyDrive/Tegger_Internship/bbc/Tfile.csv\")\n",
        "Sfile= pd.read_csv(\"/content/drive/MyDrive/Tegger_Internship/bbc/Sfile.csv\")"
      ],
      "execution_count": null,
      "outputs": []
    },
    {
      "cell_type": "markdown",
      "metadata": {
        "id": "yiyqDVZLAabJ"
      },
      "source": [
        "Append a new column with name 'Topic' which wil determine the category"
      ]
    },
    {
      "cell_type": "code",
      "metadata": {
        "id": "IcCmJg2M_f2R"
      },
      "source": [
        "Bfile['Topic']= 'business'\n",
        "Efile['Topic']= 'entertainment'\n",
        "Pfile['Topic']= 'politics'\n",
        "Tfile['Topic']= 'tech'\n",
        "Sfile['Topic']= 'sport'"
      ],
      "execution_count": null,
      "outputs": []
    },
    {
      "cell_type": "markdown",
      "metadata": {
        "id": "DdHlG_He1KjA"
      },
      "source": [
        "Create a New Dataframe"
      ]
    },
    {
      "cell_type": "code",
      "metadata": {
        "id": "5icCflAkBWuo"
      },
      "source": [
        "df= pd.concat([Bfile,Efile,Pfile,Tfile,Sfile], ignore_index=True)"
      ],
      "execution_count": null,
      "outputs": []
    },
    {
      "cell_type": "code",
      "metadata": {
        "colab": {
          "base_uri": "https://localhost:8080/"
        },
        "id": "SrBjsPy6BouS",
        "outputId": "9de19e4f-5346-4628-e572-1751c2e3f09a"
      },
      "source": [
        "df.Topic.unique()"
      ],
      "execution_count": null,
      "outputs": [
        {
          "output_type": "execute_result",
          "data": {
            "text/plain": [
              "array(['business', 'entertainment', 'politics', 'tech', 'sport'],\n",
              "      dtype=object)"
            ]
          },
          "metadata": {
            "tags": []
          },
          "execution_count": 6
        }
      ]
    },
    {
      "cell_type": "code",
      "metadata": {
        "id": "8pprhkZcCGbJ"
      },
      "source": [
        "# bbc will be the new dataframe which will consist of all the topics along with the content of the article. \n",
        "bbc= df"
      ],
      "execution_count": null,
      "outputs": []
    },
    {
      "cell_type": "markdown",
      "metadata": {
        "id": "clfXeneWk2VM"
      },
      "source": [
        "To convert the dataframe into a csv file"
      ]
    },
    {
      "cell_type": "code",
      "metadata": {
        "colab": {
          "base_uri": "https://localhost:8080/",
          "height": 17
        },
        "id": "B2eTe1RhEmCX",
        "outputId": "fec722b5-331a-4d98-dda9-a6d350f33182"
      },
      "source": [
        "from google.colab import files\n",
        "bbc.to_csv('bbc_data.csv', index=False) \n",
        "files.download('bbc_data.csv')"
      ],
      "execution_count": null,
      "outputs": [
        {
          "output_type": "display_data",
          "data": {
            "application/javascript": [
              "\n",
              "    async function download(id, filename, size) {\n",
              "      if (!google.colab.kernel.accessAllowed) {\n",
              "        return;\n",
              "      }\n",
              "      const div = document.createElement('div');\n",
              "      const label = document.createElement('label');\n",
              "      label.textContent = `Downloading \"${filename}\": `;\n",
              "      div.appendChild(label);\n",
              "      const progress = document.createElement('progress');\n",
              "      progress.max = size;\n",
              "      div.appendChild(progress);\n",
              "      document.body.appendChild(div);\n",
              "\n",
              "      const buffers = [];\n",
              "      let downloaded = 0;\n",
              "\n",
              "      const channel = await google.colab.kernel.comms.open(id);\n",
              "      // Send a message to notify the kernel that we're ready.\n",
              "      channel.send({})\n",
              "\n",
              "      for await (const message of channel.messages) {\n",
              "        // Send a message to notify the kernel that we're ready.\n",
              "        channel.send({})\n",
              "        if (message.buffers) {\n",
              "          for (const buffer of message.buffers) {\n",
              "            buffers.push(buffer);\n",
              "            downloaded += buffer.byteLength;\n",
              "            progress.value = downloaded;\n",
              "          }\n",
              "        }\n",
              "      }\n",
              "      const blob = new Blob(buffers, {type: 'application/binary'});\n",
              "      const a = document.createElement('a');\n",
              "      a.href = window.URL.createObjectURL(blob);\n",
              "      a.download = filename;\n",
              "      div.appendChild(a);\n",
              "      a.click();\n",
              "      div.remove();\n",
              "    }\n",
              "  "
            ],
            "text/plain": [
              "<IPython.core.display.Javascript object>"
            ]
          },
          "metadata": {
            "tags": []
          }
        },
        {
          "output_type": "display_data",
          "data": {
            "application/javascript": [
              "download(\"download_5a166d80-8272-4d55-a57f-38bfb0d1d14d\", \"bbc_data.csv\", 5105122)"
            ],
            "text/plain": [
              "<IPython.core.display.Javascript object>"
            ]
          },
          "metadata": {
            "tags": []
          }
        }
      ]
    },
    {
      "cell_type": "code",
      "metadata": {
        "id": "cotLoosQjpZW"
      },
      "source": [
        "bbc= pd.read_csv('/content/drive/MyDrive/Tegger_Internship/bbc/bbc_data.csv')"
      ],
      "execution_count": null,
      "outputs": []
    },
    {
      "cell_type": "code",
      "metadata": {
        "colab": {
          "base_uri": "https://localhost:8080/"
        },
        "id": "XxlbHwj0mxST",
        "outputId": "752945f2-7d1f-46c3-bbf1-211f4dd8544f"
      },
      "source": [
        "from sklearn.preprocessing import LabelEncoder\n",
        "\n",
        "LE = LabelEncoder()\n",
        "bbc['Topic_ID'] = LE.fit_transform(bbc['Topic'])\n",
        "print(bbc)"
      ],
      "execution_count": null,
      "outputs": [
        {
          "output_type": "stream",
          "text": [
            "     FileName  ... Topic_ID\n",
            "0     027.txt  ...        0\n",
            "1     011.txt  ...        0\n",
            "2     019.txt  ...        0\n",
            "3     016.txt  ...        0\n",
            "4     003.txt  ...        0\n",
            "...       ...  ...      ...\n",
            "2220  484.txt  ...        3\n",
            "2221  492.txt  ...        3\n",
            "2222  483.txt  ...        3\n",
            "2223  509.txt  ...        3\n",
            "2224  501.txt  ...        3\n",
            "\n",
            "[2225 rows x 4 columns]\n"
          ],
          "name": "stdout"
        }
      ]
    },
    {
      "cell_type": "markdown",
      "metadata": {
        "id": "aofCZ4K-nxgE"
      },
      "source": [
        "Now we will create a dataframe consisting ofTopic and respective Topic_ID."
      ]
    },
    {
      "cell_type": "code",
      "metadata": {
        "colab": {
          "base_uri": "https://localhost:8080/",
          "height": 198
        },
        "id": "R8map7MUnMWx",
        "outputId": "242cd03f-a43c-492a-941c-8a903b9ec06d"
      },
      "source": [
        "topic_id_df = bbc[['Topic', 'Topic_ID']].drop_duplicates().sort_values('Topic_ID')\n",
        "topic_id_df"
      ],
      "execution_count": null,
      "outputs": [
        {
          "output_type": "execute_result",
          "data": {
            "text/html": [
              "<div>\n",
              "<style scoped>\n",
              "    .dataframe tbody tr th:only-of-type {\n",
              "        vertical-align: middle;\n",
              "    }\n",
              "\n",
              "    .dataframe tbody tr th {\n",
              "        vertical-align: top;\n",
              "    }\n",
              "\n",
              "    .dataframe thead th {\n",
              "        text-align: right;\n",
              "    }\n",
              "</style>\n",
              "<table border=\"1\" class=\"dataframe\">\n",
              "  <thead>\n",
              "    <tr style=\"text-align: right;\">\n",
              "      <th></th>\n",
              "      <th>Topic</th>\n",
              "      <th>Topic_ID</th>\n",
              "    </tr>\n",
              "  </thead>\n",
              "  <tbody>\n",
              "    <tr>\n",
              "      <th>0</th>\n",
              "      <td>business</td>\n",
              "      <td>0</td>\n",
              "    </tr>\n",
              "    <tr>\n",
              "      <th>510</th>\n",
              "      <td>entertainment</td>\n",
              "      <td>1</td>\n",
              "    </tr>\n",
              "    <tr>\n",
              "      <th>896</th>\n",
              "      <td>politics</td>\n",
              "      <td>2</td>\n",
              "    </tr>\n",
              "    <tr>\n",
              "      <th>1714</th>\n",
              "      <td>sport</td>\n",
              "      <td>3</td>\n",
              "    </tr>\n",
              "    <tr>\n",
              "      <th>1313</th>\n",
              "      <td>tech</td>\n",
              "      <td>4</td>\n",
              "    </tr>\n",
              "  </tbody>\n",
              "</table>\n",
              "</div>"
            ],
            "text/plain": [
              "              Topic  Topic_ID\n",
              "0          business         0\n",
              "510   entertainment         1\n",
              "896        politics         2\n",
              "1714          sport         3\n",
              "1313           tech         4"
            ]
          },
          "metadata": {
            "tags": []
          },
          "execution_count": 10
        }
      ]
    },
    {
      "cell_type": "code",
      "metadata": {
        "colab": {
          "base_uri": "https://localhost:8080/"
        },
        "id": "xosf0hmRqrPi",
        "outputId": "f38fa8ae-6bfb-460d-c2b3-42298bdb82ed"
      },
      "source": [
        "df= bbc.groupby('Topic').Topic_ID.count()\n",
        "df"
      ],
      "execution_count": null,
      "outputs": [
        {
          "output_type": "execute_result",
          "data": {
            "text/plain": [
              "Topic\n",
              "business         510\n",
              "entertainment    386\n",
              "politics         417\n",
              "sport            511\n",
              "tech             401\n",
              "Name: Topic_ID, dtype: int64"
            ]
          },
          "metadata": {
            "tags": []
          },
          "execution_count": 11
        }
      ]
    },
    {
      "cell_type": "code",
      "metadata": {
        "colab": {
          "base_uri": "https://localhost:8080/",
          "height": 301
        },
        "id": "f_0CKnezrB9j",
        "outputId": "61d7caa3-7599-4ea5-85b5-a90ce3cac28f"
      },
      "source": [
        "sns.set(style=\"whitegrid\")\n",
        "sns.countplot(x=bbc[\"Topic\"], palette=\"muted\")\n",
        "plt.title(\"Topics\")\n",
        "plt.show()"
      ],
      "execution_count": null,
      "outputs": [
        {
          "output_type": "display_data",
          "data": {
            "image/png": "[encoded data removed]",
            "text/plain": [
              "<Figure size 432x288 with 1 Axes>"
            ]
          },
          "metadata": {
            "tags": []
          }
        }
      ]
    },
    {
      "cell_type": "markdown",
      "metadata": {
        "id": "ttl32HSZsOn1"
      },
      "source": [
        "### Text Preprocessing"
      ]
    },
    {
      "cell_type": "markdown",
      "metadata": {
        "id": "OlmC9runtGxB"
      },
      "source": [
        "In this section we will process the column named 'Content' which contains the raw text of the articles posted by bbc.\n",
        "\n",
        "We will basically peform the text preprocessing by using the well known nltk library. In order to do this we have imported the necessary libraries into out notebook."
      ]
    },
    {
      "cell_type": "markdown",
      "metadata": {
        "id": "BBajhP8euTES"
      },
      "source": [
        "We need to clean the column Content.Text cleaning can be done by:\n",
        "\n",
        "Converting all the characters in Lowercase.\n",
        "Removing characters apart from A-Z and a-z.\n",
        "Removing the hashtags # if any.\n",
        "Removing the stop words\n",
        "The class WordNetLemmatizer() is used for Lemmatization. Lemmatization is a process of reducing inflected words to their respective lemmatized words which can be easily understood by human as well(Meaningful Representation.)\n",
        "\n",
        "We will apply Stemming to the data.\n",
        "\n",
        "In the end, we will create a list 'corpus' where we will store all these tweets."
      ]
    },
    {
      "cell_type": "code",
      "metadata": {
        "colab": {
          "base_uri": "https://localhost:8080/",
          "height": 198
        },
        "id": "O_p90fZ1ktyR",
        "outputId": "8e4b1ebf-e871-46e2-dddc-8aace8daa84e"
      },
      "source": [
        "bbc.head()"
      ],
      "execution_count": null,
      "outputs": [
        {
          "output_type": "execute_result",
          "data": {
            "text/html": [
              "<div>\n",
              "<style scoped>\n",
              "    .dataframe tbody tr th:only-of-type {\n",
              "        vertical-align: middle;\n",
              "    }\n",
              "\n",
              "    .dataframe tbody tr th {\n",
              "        vertical-align: top;\n",
              "    }\n",
              "\n",
              "    .dataframe thead th {\n",
              "        text-align: right;\n",
              "    }\n",
              "</style>\n",
              "<table border=\"1\" class=\"dataframe\">\n",
              "  <thead>\n",
              "    <tr style=\"text-align: right;\">\n",
              "      <th></th>\n",
              "      <th>FileName</th>\n",
              "      <th>Content</th>\n",
              "      <th>Topic</th>\n",
              "      <th>Topic_ID</th>\n",
              "    </tr>\n",
              "  </thead>\n",
              "  <tbody>\n",
              "    <tr>\n",
              "      <th>0</th>\n",
              "      <td>027.txt</td>\n",
              "      <td>Steel firm 'to cut' 45,000 jobs\\n\\nMittal Stee...</td>\n",
              "      <td>business</td>\n",
              "      <td>0</td>\n",
              "    </tr>\n",
              "    <tr>\n",
              "      <th>1</th>\n",
              "      <td>011.txt</td>\n",
              "      <td>Ask Jeeves tips online ad revival\\n\\nAsk Jeeve...</td>\n",
              "      <td>business</td>\n",
              "      <td>0</td>\n",
              "    </tr>\n",
              "    <tr>\n",
              "      <th>2</th>\n",
              "      <td>019.txt</td>\n",
              "      <td>India widens access to telecoms\\n\\nIndia has r...</td>\n",
              "      <td>business</td>\n",
              "      <td>0</td>\n",
              "    </tr>\n",
              "    <tr>\n",
              "      <th>3</th>\n",
              "      <td>016.txt</td>\n",
              "      <td>China keeps tight rein on credit\\n\\nChina's ef...</td>\n",
              "      <td>business</td>\n",
              "      <td>0</td>\n",
              "    </tr>\n",
              "    <tr>\n",
              "      <th>4</th>\n",
              "      <td>003.txt</td>\n",
              "      <td>Yukos unit buyer faces loan claim\\n\\nThe owner...</td>\n",
              "      <td>business</td>\n",
              "      <td>0</td>\n",
              "    </tr>\n",
              "  </tbody>\n",
              "</table>\n",
              "</div>"
            ],
            "text/plain": [
              "  FileName  ... Topic_ID\n",
              "0  027.txt  ...        0\n",
              "1  011.txt  ...        0\n",
              "2  019.txt  ...        0\n",
              "3  016.txt  ...        0\n",
              "4  003.txt  ...        0\n",
              "\n",
              "[5 rows x 4 columns]"
            ]
          },
          "metadata": {
            "tags": []
          },
          "execution_count": 43
        }
      ]
    },
    {
      "cell_type": "markdown",
      "metadata": {
        "id": "k-HOB6tJ1IKx"
      },
      "source": [
        "Remove Punctuations"
      ]
    },
    {
      "cell_type": "code",
      "metadata": {
        "id": "wMDTVWpfxQiY"
      },
      "source": [
        "#Remove the punctuations present in the text\n",
        "import string\n",
        "def remove_punctuation(row):\n",
        "  row = row.lower()\n",
        "  rmv_punct=''.join([words for words in row if words not in string.punctuation])\n",
        "  return rmv_punct"
      ],
      "execution_count": null,
      "outputs": []
    },
    {
      "cell_type": "code",
      "metadata": {
        "id": "E3urNwjg2ZB4"
      },
      "source": [
        "bbc['Content']= bbc['Content'].apply(lambda x: remove_punctuation(x))"
      ],
      "execution_count": null,
      "outputs": []
    },
    {
      "cell_type": "code",
      "metadata": {
        "colab": {
          "base_uri": "https://localhost:8080/",
          "height": 198
        },
        "id": "CJPIFk3xqi4Q",
        "outputId": "cb7bf933-9e32-410d-8b02-4e5262d609d9"
      },
      "source": [
        "bbc.head()"
      ],
      "execution_count": null,
      "outputs": [
        {
          "output_type": "execute_result",
          "data": {
            "text/html": [
              "<div>\n",
              "<style scoped>\n",
              "    .dataframe tbody tr th:only-of-type {\n",
              "        vertical-align: middle;\n",
              "    }\n",
              "\n",
              "    .dataframe tbody tr th {\n",
              "        vertical-align: top;\n",
              "    }\n",
              "\n",
              "    .dataframe thead th {\n",
              "        text-align: right;\n",
              "    }\n",
              "</style>\n",
              "<table border=\"1\" class=\"dataframe\">\n",
              "  <thead>\n",
              "    <tr style=\"text-align: right;\">\n",
              "      <th></th>\n",
              "      <th>FileName</th>\n",
              "      <th>Content</th>\n",
              "      <th>Topic</th>\n",
              "      <th>Topic_ID</th>\n",
              "    </tr>\n",
              "  </thead>\n",
              "  <tbody>\n",
              "    <tr>\n",
              "      <th>0</th>\n",
              "      <td>027.txt</td>\n",
              "      <td>steel firm to cut 45000 jobsmittal steel one o...</td>\n",
              "      <td>business</td>\n",
              "      <td>0</td>\n",
              "    </tr>\n",
              "    <tr>\n",
              "      <th>1</th>\n",
              "      <td>011.txt</td>\n",
              "      <td>ask jeeves tips online ad revivalask jeeves ha...</td>\n",
              "      <td>business</td>\n",
              "      <td>0</td>\n",
              "    </tr>\n",
              "    <tr>\n",
              "      <th>2</th>\n",
              "      <td>019.txt</td>\n",
              "      <td>india widens access to telecomsindia has raise...</td>\n",
              "      <td>business</td>\n",
              "      <td>0</td>\n",
              "    </tr>\n",
              "    <tr>\n",
              "      <th>3</th>\n",
              "      <td>016.txt</td>\n",
              "      <td>china keeps tight rein on creditchinas efforts...</td>\n",
              "      <td>business</td>\n",
              "      <td>0</td>\n",
              "    </tr>\n",
              "    <tr>\n",
              "      <th>4</th>\n",
              "      <td>003.txt</td>\n",
              "      <td>yukos unit buyer faces loan claimthe owners of...</td>\n",
              "      <td>business</td>\n",
              "      <td>0</td>\n",
              "    </tr>\n",
              "  </tbody>\n",
              "</table>\n",
              "</div>"
            ],
            "text/plain": [
              "  FileName  ... Topic_ID\n",
              "0  027.txt  ...        0\n",
              "1  011.txt  ...        0\n",
              "2  019.txt  ...        0\n",
              "3  016.txt  ...        0\n",
              "4  003.txt  ...        0\n",
              "\n",
              "[5 rows x 4 columns]"
            ]
          },
          "metadata": {
            "tags": []
          },
          "execution_count": 19
        }
      ]
    },
    {
      "cell_type": "code",
      "metadata": {
        "id": "YygOw3mb2Meg"
      },
      "source": [
        "bbc = bbc.replace('\\n','', regex=True)"
      ],
      "execution_count": null,
      "outputs": []
    },
    {
      "cell_type": "code",
      "metadata": {
        "colab": {
          "base_uri": "https://localhost:8080/"
        },
        "id": "t5bMuM5wqBUy",
        "outputId": "52997a11-f9ea-47b6-fbc6-3ab60d0da7b6"
      },
      "source": [
        "bbc['Content']"
      ],
      "execution_count": null,
      "outputs": [
        {
          "output_type": "execute_result",
          "data": {
            "text/plain": [
              "0       steel firm to cut 45000 jobsmittal steel one o...\n",
              "1       ask jeeves tips online ad revivalask jeeves ha...\n",
              "2       india widens access to telecomsindia has raise...\n",
              "3       china keeps tight rein on creditchinas efforts...\n",
              "4       yukos unit buyer faces loan claimthe owners of...\n",
              "                              ...                        \n",
              "2220    sydney return for heninhardenneolympic champio...\n",
              "2221    henman  murray claim lta awardstim henman was ...\n",
              "2222    hewitt survives nalbandian epichome favourite ...\n",
              "2223    melzer shocks agassi in san josesecond seed an...\n",
              "2224    ivanovic seals canberra victoryserbias ana iva...\n",
              "Name: Content, Length: 2225, dtype: object"
            ]
          },
          "metadata": {
            "tags": []
          },
          "execution_count": 21
        }
      ]
    },
    {
      "cell_type": "code",
      "metadata": {
        "id": "Vuk5e-ynGFXr"
      },
      "source": [
        "def rmv_digit(row):\n",
        "  no_digit= ''.join([i for i in str(row) if not i.isdigit()]) \n",
        "  return no_digit"
      ],
      "execution_count": null,
      "outputs": []
    },
    {
      "cell_type": "code",
      "metadata": {
        "id": "Pk4N0OCNG-lB"
      },
      "source": [
        "bbc['Content']= bbc['Content'].apply(lambda x: rmv_digit(x))"
      ],
      "execution_count": null,
      "outputs": []
    },
    {
      "cell_type": "code",
      "metadata": {
        "colab": {
          "base_uri": "https://localhost:8080/",
          "height": 198
        },
        "id": "vP-UJkReofkz",
        "outputId": "fe0ac1ba-98fe-4110-847d-b1421f11dedc"
      },
      "source": [
        "bbc.head()"
      ],
      "execution_count": null,
      "outputs": [
        {
          "output_type": "execute_result",
          "data": {
            "text/html": [
              "<div>\n",
              "<style scoped>\n",
              "    .dataframe tbody tr th:only-of-type {\n",
              "        vertical-align: middle;\n",
              "    }\n",
              "\n",
              "    .dataframe tbody tr th {\n",
              "        vertical-align: top;\n",
              "    }\n",
              "\n",
              "    .dataframe thead th {\n",
              "        text-align: right;\n",
              "    }\n",
              "</style>\n",
              "<table border=\"1\" class=\"dataframe\">\n",
              "  <thead>\n",
              "    <tr style=\"text-align: right;\">\n",
              "      <th></th>\n",
              "      <th>FileName</th>\n",
              "      <th>Content</th>\n",
              "      <th>Topic</th>\n",
              "      <th>Topic_ID</th>\n",
              "    </tr>\n",
              "  </thead>\n",
              "  <tbody>\n",
              "    <tr>\n",
              "      <th>0</th>\n",
              "      <td>027.txt</td>\n",
              "      <td>steel firm to cut  jobsmittal steel one of the...</td>\n",
              "      <td>business</td>\n",
              "      <td>0</td>\n",
              "    </tr>\n",
              "    <tr>\n",
              "      <th>1</th>\n",
              "      <td>011.txt</td>\n",
              "      <td>ask jeeves tips online ad revivalask jeeves ha...</td>\n",
              "      <td>business</td>\n",
              "      <td>0</td>\n",
              "    </tr>\n",
              "    <tr>\n",
              "      <th>2</th>\n",
              "      <td>019.txt</td>\n",
              "      <td>india widens access to telecomsindia has raise...</td>\n",
              "      <td>business</td>\n",
              "      <td>0</td>\n",
              "    </tr>\n",
              "    <tr>\n",
              "      <th>3</th>\n",
              "      <td>016.txt</td>\n",
              "      <td>china keeps tight rein on creditchinas efforts...</td>\n",
              "      <td>business</td>\n",
              "      <td>0</td>\n",
              "    </tr>\n",
              "    <tr>\n",
              "      <th>4</th>\n",
              "      <td>003.txt</td>\n",
              "      <td>yukos unit buyer faces loan claimthe owners of...</td>\n",
              "      <td>business</td>\n",
              "      <td>0</td>\n",
              "    </tr>\n",
              "  </tbody>\n",
              "</table>\n",
              "</div>"
            ],
            "text/plain": [
              "  FileName  ... Topic_ID\n",
              "0  027.txt  ...        0\n",
              "1  011.txt  ...        0\n",
              "2  019.txt  ...        0\n",
              "3  016.txt  ...        0\n",
              "4  003.txt  ...        0\n",
              "\n",
              "[5 rows x 4 columns]"
            ]
          },
          "metadata": {
            "tags": []
          },
          "execution_count": 25
        }
      ]
    },
    {
      "cell_type": "markdown",
      "metadata": {
        "id": "LA_Z98Q81Nqn"
      },
      "source": [
        "Remove stop words"
      ]
    },
    {
      "cell_type": "code",
      "metadata": {
        "id": "aoj1SHUJlTnY",
        "colab": {
          "base_uri": "https://localhost:8080/"
        },
        "outputId": "ff45e963-aac5-419c-b463-1af0bbc11ce7"
      },
      "source": [
        "nltk.download('stopwords')\n",
        "from nltk.corpus import stopwords\n",
        "stop_words= set(stopwords.words('english'))"
      ],
      "execution_count": null,
      "outputs": [
        {
          "output_type": "stream",
          "text": [
            "[nltk_data] Downloading package stopwords to /root/nltk_data...\n",
            "[nltk_data]   Unzipping corpora/stopwords.zip.\n"
          ],
          "name": "stdout"
        }
      ]
    },
    {
      "cell_type": "code",
      "metadata": {
        "id": "48l_XLK_lC_G"
      },
      "source": [
        "def rmv_stopwords(row, sw):\n",
        "  row_split= row.split(' ')\n",
        "  return [token for token in row_split if token not in sw]\n"
      ],
      "execution_count": null,
      "outputs": []
    },
    {
      "cell_type": "code",
      "metadata": {
        "id": "oh_Vj3bdnd52"
      },
      "source": [
        "bbc['Content']= bbc['Content'].apply(lambda x: rmv_stopwords(x, stop_words))"
      ],
      "execution_count": null,
      "outputs": []
    },
    {
      "cell_type": "code",
      "metadata": {
        "colab": {
          "base_uri": "https://localhost:8080/",
          "height": 198
        },
        "id": "X0dNluJ_o2YN",
        "outputId": "d7df5778-745c-4599-c5fb-f9d2a83e7791"
      },
      "source": [
        "bbc.head()"
      ],
      "execution_count": null,
      "outputs": [
        {
          "output_type": "execute_result",
          "data": {
            "text/html": [
              "<div>\n",
              "<style scoped>\n",
              "    .dataframe tbody tr th:only-of-type {\n",
              "        vertical-align: middle;\n",
              "    }\n",
              "\n",
              "    .dataframe tbody tr th {\n",
              "        vertical-align: top;\n",
              "    }\n",
              "\n",
              "    .dataframe thead th {\n",
              "        text-align: right;\n",
              "    }\n",
              "</style>\n",
              "<table border=\"1\" class=\"dataframe\">\n",
              "  <thead>\n",
              "    <tr style=\"text-align: right;\">\n",
              "      <th></th>\n",
              "      <th>FileName</th>\n",
              "      <th>Content</th>\n",
              "      <th>Topic</th>\n",
              "      <th>Topic_ID</th>\n",
              "    </tr>\n",
              "  </thead>\n",
              "  <tbody>\n",
              "    <tr>\n",
              "      <th>0</th>\n",
              "      <td>027.txt</td>\n",
              "      <td>[steel, firm, cut, , jobsmittal, steel, one, w...</td>\n",
              "      <td>business</td>\n",
              "      <td>0</td>\n",
              "    </tr>\n",
              "    <tr>\n",
              "      <th>1</th>\n",
              "      <td>011.txt</td>\n",
              "      <td>[ask, jeeves, tips, online, ad, revivalask, je...</td>\n",
              "      <td>business</td>\n",
              "      <td>0</td>\n",
              "    </tr>\n",
              "    <tr>\n",
              "      <th>2</th>\n",
              "      <td>019.txt</td>\n",
              "      <td>[india, widens, access, telecomsindia, raised,...</td>\n",
              "      <td>business</td>\n",
              "      <td>0</td>\n",
              "    </tr>\n",
              "    <tr>\n",
              "      <th>3</th>\n",
              "      <td>016.txt</td>\n",
              "      <td>[china, keeps, tight, rein, creditchinas, effo...</td>\n",
              "      <td>business</td>\n",
              "      <td>0</td>\n",
              "    </tr>\n",
              "    <tr>\n",
              "      <th>4</th>\n",
              "      <td>003.txt</td>\n",
              "      <td>[yukos, unit, buyer, faces, loan, claimthe, ow...</td>\n",
              "      <td>business</td>\n",
              "      <td>0</td>\n",
              "    </tr>\n",
              "  </tbody>\n",
              "</table>\n",
              "</div>"
            ],
            "text/plain": [
              "  FileName  ... Topic_ID\n",
              "0  027.txt  ...        0\n",
              "1  011.txt  ...        0\n",
              "2  019.txt  ...        0\n",
              "3  016.txt  ...        0\n",
              "4  003.txt  ...        0\n",
              "\n",
              "[5 rows x 4 columns]"
            ]
          },
          "metadata": {
            "tags": []
          },
          "execution_count": 31
        }
      ]
    },
    {
      "cell_type": "markdown",
      "metadata": {
        "id": "GKWNHx1mBzez"
      },
      "source": [
        "Lemmatizing of Text"
      ]
    },
    {
      "cell_type": "code",
      "metadata": {
        "colab": {
          "base_uri": "https://localhost:8080/"
        },
        "id": "teRhy_6hB2-I",
        "outputId": "abbdd6bc-bcd1-4f1c-90b1-422563b1d32c"
      },
      "source": [
        "nltk.download('wordnet')\n",
        "from nltk.stem import WordNetLemmatizer\n",
        "from nltk.stem.porter import PorterStemmer\n",
        "\n",
        "lemm = WordNetLemmatizer()\n",
        "\n",
        "def lemmetizer(row):\n",
        "  lemm_row= [lemm.lemmatize(i) for i in row]\n",
        "  return lemm_row"
      ],
      "execution_count": null,
      "outputs": [
        {
          "output_type": "stream",
          "text": [
            "[nltk_data] Downloading package wordnet to /root/nltk_data...\n",
            "[nltk_data]   Unzipping corpora/wordnet.zip.\n"
          ],
          "name": "stdout"
        }
      ]
    },
    {
      "cell_type": "code",
      "metadata": {
        "id": "3dVsd4jvDSBJ"
      },
      "source": [
        "bbc['Content']= bbc['Content'].apply(lambda x: lemmetizer(x))"
      ],
      "execution_count": null,
      "outputs": []
    },
    {
      "cell_type": "code",
      "metadata": {
        "colab": {
          "base_uri": "https://localhost:8080/",
          "height": 198
        },
        "id": "WCV_dvPZpkDV",
        "outputId": "bf6eb03a-9776-4e06-c1be-65bbcc922d5d"
      },
      "source": [
        "bbc.head()"
      ],
      "execution_count": null,
      "outputs": [
        {
          "output_type": "execute_result",
          "data": {
            "text/html": [
              "<div>\n",
              "<style scoped>\n",
              "    .dataframe tbody tr th:only-of-type {\n",
              "        vertical-align: middle;\n",
              "    }\n",
              "\n",
              "    .dataframe tbody tr th {\n",
              "        vertical-align: top;\n",
              "    }\n",
              "\n",
              "    .dataframe thead th {\n",
              "        text-align: right;\n",
              "    }\n",
              "</style>\n",
              "<table border=\"1\" class=\"dataframe\">\n",
              "  <thead>\n",
              "    <tr style=\"text-align: right;\">\n",
              "      <th></th>\n",
              "      <th>FileName</th>\n",
              "      <th>Content</th>\n",
              "      <th>Topic</th>\n",
              "      <th>Topic_ID</th>\n",
              "    </tr>\n",
              "  </thead>\n",
              "  <tbody>\n",
              "    <tr>\n",
              "      <th>0</th>\n",
              "      <td>027.txt</td>\n",
              "      <td>[steel, firm, cut, , jobsmittal, steel, one, w...</td>\n",
              "      <td>business</td>\n",
              "      <td>0</td>\n",
              "    </tr>\n",
              "    <tr>\n",
              "      <th>1</th>\n",
              "      <td>011.txt</td>\n",
              "      <td>[ask, jeeves, tip, online, ad, revivalask, jee...</td>\n",
              "      <td>business</td>\n",
              "      <td>0</td>\n",
              "    </tr>\n",
              "    <tr>\n",
              "      <th>2</th>\n",
              "      <td>019.txt</td>\n",
              "      <td>[india, widens, access, telecomsindia, raised,...</td>\n",
              "      <td>business</td>\n",
              "      <td>0</td>\n",
              "    </tr>\n",
              "    <tr>\n",
              "      <th>3</th>\n",
              "      <td>016.txt</td>\n",
              "      <td>[china, keep, tight, rein, creditchinas, effor...</td>\n",
              "      <td>business</td>\n",
              "      <td>0</td>\n",
              "    </tr>\n",
              "    <tr>\n",
              "      <th>4</th>\n",
              "      <td>003.txt</td>\n",
              "      <td>[yukos, unit, buyer, face, loan, claimthe, own...</td>\n",
              "      <td>business</td>\n",
              "      <td>0</td>\n",
              "    </tr>\n",
              "  </tbody>\n",
              "</table>\n",
              "</div>"
            ],
            "text/plain": [
              "  FileName  ... Topic_ID\n",
              "0  027.txt  ...        0\n",
              "1  011.txt  ...        0\n",
              "2  019.txt  ...        0\n",
              "3  016.txt  ...        0\n",
              "4  003.txt  ...        0\n",
              "\n",
              "[5 rows x 4 columns]"
            ]
          },
          "metadata": {
            "tags": []
          },
          "execution_count": 36
        }
      ]
    },
    {
      "cell_type": "code",
      "metadata": {
        "id": "bMECgZFurqlk"
      },
      "source": [
        "data_words = list(bbc['Content'])"
      ],
      "execution_count": null,
      "outputs": []
    },
    {
      "cell_type": "code",
      "metadata": {
        "colab": {
          "base_uri": "https://localhost:8080/"
        },
        "id": "76VD873Rrsc2",
        "outputId": "6187651a-51cf-497f-b68e-f78036f0ea9c"
      },
      "source": [
        "# Build the bigram and trigram models\n",
        "bigram = gensim.models.Phrases(data_words, min_count=3, threshold=30) # higher threshold fewer phrases.\n",
        "trigram = gensim.models.Phrases(bigram[data_words], threshold=30)  \n",
        "\n",
        "# Faster way to get a sentence clubbed as a trigram/bigram\n",
        "bigram_mod = gensim.models.phrases.Phraser(bigram)\n",
        "trigram_mod = gensim.models.phrases.Phraser(trigram)\n",
        "\n",
        "# See trigram example\n",
        "print(trigram_mod[bigram_mod[data_words[0]]])"
      ],
      "execution_count": null,
      "outputs": [
        {
          "output_type": "stream",
          "text": [
            "['steel', 'firm', 'cut', 'jobsmittal', 'steel', 'one', 'world_largest', 'steel', 'producer', 'could', 'cut', 'job', 'next', 'five', 'year', 'chief_executive', 'saidthe', 'netherlandsbased', 'company', 'due', 'complete', 'bn', 'acquisition', 'u', 'firm', 'isg', 'next_month', 'making', 'one', 'largest', 'global', 'firm', 'kind', 'however', 'lakshmi', 'mittal', 'told', 'investor', 'combined', 'company', 'shed', 'thousand', 'job', 'indianborn', 'magnate', 'say', 'job_loss', 'would', 'fallmr', 'mittal', 'told', 'u', 'investor', 'acquisition', 'international', 'steel', 'group', 'completed', 'company', 'would', 'aim', 'reduce', 'workforce', 'annually', 'could', 'see', 'workforce', 'trimmed', 'staff', 'investing', 'modernisation', 'employee', 'go', 'mr', 'mittal', 'told', 'conference', 'chicagomittal', 'steel', 'formed', 'last_year', 'mr', 'mittals', 'lnm', 'holding', 'merged', 'dutch', 'firm', 'ispat', 'combination', 'mittal', 'steel', 'isg', 'would', 'annual', 'sale', 'bn_£bn', 'bn_euro', 'production', 'capacity', 'million', 'tonnesa', 'mittal', 'steel', 'spokeman', 'said', 'decision', 'job', 'cut', 'made', 'yet', 'trying', 'create', 'sustainable', 'steel', 'industry', 'want', 'invest', 'new', 'technology', 'spokesman', 'said', 'mittal', 'steel', 'operation', 'country', 'many', 'business', 'particularly', 'eastern_europe', 'previously', 'state', 'owned', 'huge', 'workforce', 'employ_staff', 'kazakhstan', 'alone', 'large', 'operation', 'romania', 'czech_republic', 'south_africa', 'united_state']\n"
          ],
          "name": "stdout"
        }
      ]
    },
    {
      "cell_type": "code",
      "metadata": {
        "colab": {
          "base_uri": "https://localhost:8080/"
        },
        "id": "AjjAg05IvDzE",
        "outputId": "2da2a3e7-8e50-4bef-a1bb-62ca6868b1a7"
      },
      "source": [
        "print(bigram_mod[data_words[0]])"
      ],
      "execution_count": null,
      "outputs": [
        {
          "output_type": "stream",
          "text": [
            "['steel', 'firm', 'cut', 'jobsmittal', 'steel', 'one', 'world_largest', 'steel', 'producer', 'could', 'cut', 'job', 'next', 'five', 'year', 'chief_executive', 'saidthe', 'netherlandsbased', 'company', 'due', 'complete', 'bn', 'acquisition', 'u', 'firm', 'isg', 'next_month', 'making', 'one', 'largest', 'global', 'firm', 'kind', 'however', 'lakshmi', 'mittal', 'told', 'investor', 'combined', 'company', 'shed', 'thousand', 'job', 'indianborn', 'magnate', 'say', 'job_loss', 'would', 'fallmr', 'mittal', 'told', 'u', 'investor', 'acquisition', 'international', 'steel', 'group', 'completed', 'company', 'would', 'aim', 'reduce', 'workforce', 'annually', 'could', 'see', 'workforce', 'trimmed', 'staff', 'investing', 'modernisation', 'employee', 'go', 'mr', 'mittal', 'told', 'conference', 'chicagomittal', 'steel', 'formed', 'last_year', 'mr', 'mittals', 'lnm', 'holding', 'merged', 'dutch', 'firm', 'ispat', 'combination', 'mittal', 'steel', 'isg', 'would', 'annual', 'sale', 'bn_£bn', 'bn_euro', 'production', 'capacity', 'million', 'tonnesa', 'mittal', 'steel', 'spokeman', 'said', 'decision', 'job', 'cut', 'made', 'yet', 'trying', 'create', 'sustainable', 'steel', 'industry', 'want', 'invest', 'new', 'technology', 'spokesman', 'said', 'mittal', 'steel', 'operation', 'country', 'many', 'business', 'particularly', 'eastern_europe', 'previously', 'state', 'owned', 'huge', 'workforce', 'employ', 'staff', 'kazakhstan', 'alone', 'large', 'operation', 'romania', 'czech_republic', 'south_africa', 'united_state']\n"
          ],
          "name": "stdout"
        }
      ]
    },
    {
      "cell_type": "markdown",
      "metadata": {
        "id": "Evi5qN2k_RpJ"
      },
      "source": [
        "Now we will Define functions for stopwords, bigrams, and lemmatization."
      ]
    },
    {
      "cell_type": "code",
      "metadata": {
        "id": "xNgbXUr0sVoN"
      },
      "source": [
        "\n",
        "def make_bigrams(texts):\n",
        "    return [bigram_mod[doc] for doc in texts]\n",
        "\n",
        "# def make_trigrams(texts):\n",
        "#     return [trigram_mod[bigram_mod[doc]] for doc in texts]\n",
        "\n",
        "def lemmatization(texts, allowed_postags=['NOUN', 'ADJ', 'VERB', 'ADV']):\n",
        "    \"\"\"https://spacy.io/api/annotation\"\"\"\n",
        "    texts_out = []\n",
        "    for sent in texts:\n",
        "        doc = nlp(\" \".join(sent)) \n",
        "        texts_out.append([token.lemma_ for token in doc if token.pos_ in allowed_postags])\n",
        "    return texts_out"
      ],
      "execution_count": null,
      "outputs": []
    },
    {
      "cell_type": "markdown",
      "metadata": {
        "id": "9IOwvaiJ_pyM"
      },
      "source": [
        "Now we will form the Bigrams and then initialize the spacy 'en' model while keeping only tagger component"
      ]
    },
    {
      "cell_type": "code",
      "metadata": {
        "colab": {
          "base_uri": "https://localhost:8080/"
        },
        "id": "kkfw1yYYsZc3",
        "outputId": "cde32da6-32b7-44cd-9a0e-a5e8dfff0c3c"
      },
      "source": [
        "# Formation of the Bigrams\n",
        "data_words_bigrams = make_bigrams(data_words)\n",
        "\n",
        "# python3 -m spacy download en\n",
        "nlp = spacy.load('en', disable=['parser', 'ner'])\n",
        "\n",
        "# perform lemmatization by keeping only noun, adjective, verb and adverb\n",
        "data_lemmatized = lemmatization(data_words_bigrams, allowed_postags=['NOUN', 'ADJ', 'VERB', 'ADV'])\n",
        "\n",
        "print(data_lemmatized[:1])"
      ],
      "execution_count": null,
      "outputs": [
        {
          "output_type": "stream",
          "text": [
            "[['steel', 'firm', 'cut', 'jobsmittal', 'steel', 'world_larg', 'steel', 'producer', 'could', 'cut', 'job', 'next', 'year', 'netherlandsbased', 'company', 'due', 'complete', 'bn', 'acquisition', 'firm', 'make', 'large', 'global', 'firm', 'kind', 'however', 'tell', 'investor', 'combine', 'company', 'shed', 'job', 'indianborn', 'magnate', 'say', 'would', 'fallmr', 'tell', 'investor', 'acquisition', 'complete', 'company', 'would', 'aim', 'reduce', 'workforce', 'annually', 'could', 'see', 'trimmed', 'staff', 'invest', 'modernisation', 'employee', 'go', 'tell', 'conference', 'form', 'mittal', 'merge', 'dutch', 'firm', 'ispat', 'combination', 'would', 'sale', 'production', 'capacity', 'mittal', 'spokeman', 'say', 'decision', 'job', 'cut', 'make', 'yet', 'try', 'create', 'sustainable', 'steel', 'industry', 'want', 'invest', 'technology', 'spokesman', 'say', 'mittal', 'steel', 'operation', 'country', 'many', 'business', 'particularly', 'previously', 'state', 'own', 'huge', 'alone', 'large', 'operation', 'romania']]\n"
          ],
          "name": "stdout"
        }
      ]
    },
    {
      "cell_type": "markdown",
      "metadata": {
        "id": "NFZZ_-0VAMwF"
      },
      "source": [
        "Gensim creates a unique id for each word in the document. The produced corpus shown above is a mapping of (word_id, word_frequency)."
      ]
    },
    {
      "cell_type": "code",
      "metadata": {
        "colab": {
          "base_uri": "https://localhost:8080/"
        },
        "id": "VRkBE52jslFD",
        "outputId": "7b3f3d31-46d6-4efb-bd35-4c4ed2cffdf7"
      },
      "source": [
        "# Create Dictionary\n",
        "id2word = corpora.Dictionary(data_lemmatized)\n",
        "\n",
        "# Create Corpus\n",
        "texts = data_lemmatized\n",
        "\n",
        "# Term Document Frequency\n",
        "corpus = [id2word.doc2bow(text) for text in texts]\n",
        "\n",
        "# View\n",
        "print(corpus[:5])"
      ],
      "execution_count": null,
      "outputs": [
        {
          "output_type": "stream",
          "text": [
            "[[(0, 2), (1, 1), (2, 1), (3, 1), (4, 1), (5, 1), (6, 1), (7, 1), (8, 1), (9, 3), (10, 2), (11, 1), (12, 2), (13, 1), (14, 1), (15, 3), (16, 1), (17, 1), (18, 1), (19, 1), (20, 1), (21, 4), (22, 1), (23, 1), (24, 1), (25, 1), (26, 1), (27, 1), (28, 1), (29, 2), (30, 2), (31, 1), (32, 3), (33, 1), (34, 1), (35, 2), (36, 1), (37, 2), (38, 1), (39, 1), (40, 3), (41, 1), (42, 1), (43, 1), (44, 2), (45, 1), (46, 1), (47, 1), (48, 1), (49, 1), (50, 1), (51, 1), (52, 1), (53, 3), (54, 1), (55, 1), (56, 1), (57, 1), (58, 1), (59, 1), (60, 5), (61, 1), (62, 1), (63, 3), (64, 1), (65, 1), (66, 1), (67, 1), (68, 1), (69, 3), (70, 1), (71, 1)], [(5, 1), (21, 2), (25, 1), (30, 1), (52, 1), (69, 1), (72, 1), (73, 2), (74, 1), (75, 2), (76, 1), (77, 1), (78, 1), (79, 1), (80, 1), (81, 1), (82, 1), (83, 1), (84, 1), (85, 1), (86, 1), (87, 1), (88, 1), (89, 1), (90, 1), (91, 1), (92, 1), (93, 2), (94, 1), (95, 1), (96, 1), (97, 1), (98, 1), (99, 3), (100, 1), (101, 1), (102, 3), (103, 1), (104, 1), (105, 3), (106, 1), (107, 2), (108, 1), (109, 1), (110, 1), (111, 1), (112, 1), (113, 1), (114, 1), (115, 1), (116, 1), (117, 2), (118, 1), (119, 1), (120, 1), (121, 1), (122, 1), (123, 1), (124, 1)], [(9, 1), (12, 1), (16, 2), (25, 1), (26, 1), (28, 1), (30, 1), (53, 4), (62, 1), (70, 1), (74, 1), (89, 1), (91, 2), (113, 1), (125, 1), (126, 1), (127, 1), (128, 1), (129, 1), (130, 1), (131, 1), (132, 1), (133, 1), (134, 1), (135, 1), (136, 1), (137, 1), (138, 1), (139, 1), (140, 1), (141, 1), (142, 1), (143, 1), (144, 1), (145, 1), (146, 1), (147, 3), (148, 1), (149, 1), (150, 2), (151, 1), (152, 1), (153, 1), (154, 3), (155, 1), (156, 4), (157, 1), (158, 1), (159, 1), (160, 2), (161, 1), (162, 1), (163, 1), (164, 1), (165, 4), (166, 3), (167, 2), (168, 1), (169, 2), (170, 1), (171, 1), (172, 1), (173, 1), (174, 1), (175, 1), (176, 2), (177, 1), (178, 1), (179, 1), (180, 1), (181, 1), (182, 1), (183, 1), (184, 1), (185, 1), (186, 1), (187, 1)], [(59, 1), (70, 5), (93, 1), (113, 1), (147, 1), (149, 2), (150, 3), (156, 1), (158, 1), (161, 1), (165, 1), (177, 2), (188, 1), (189, 1), (190, 1), (191, 1), (192, 2), (193, 1), (194, 1), (195, 2), (196, 1), (197, 1), (198, 2), (199, 1), (200, 1), (201, 1), (202, 1), (203, 1), (204, 1), (205, 1), (206, 2), (207, 1), (208, 1), (209, 1), (210, 2), (211, 1), (212, 1), (213, 1), (214, 1), (215, 1), (216, 1), (217, 1), (218, 1), (219, 1), (220, 1), (221, 3), (222, 1), (223, 1), (224, 1), (225, 1), (226, 2), (227, 3), (228, 1), (229, 1), (230, 1), (231, 1), (232, 1), (233, 1), (234, 2), (235, 1), (236, 1), (237, 1), (238, 1), (239, 1), (240, 1), (241, 1), (242, 1), (243, 2), (244, 1), (245, 1), (246, 1), (247, 1), (248, 1), (249, 1), (250, 1), (251, 1), (252, 1), (253, 1), (254, 1), (255, 1), (256, 1), (257, 2)], [(9, 1), (24, 1), (49, 1), (52, 4), (53, 4), (69, 1), (80, 1), (113, 1), (141, 2), (202, 1), (219, 1), (258, 1), (259, 1), (260, 1), (261, 1), (262, 1), (263, 2), (264, 3), (265, 1), (266, 1), (267, 1), (268, 1), (269, 1), (270, 2), (271, 1), (272, 1), (273, 1), (274, 1), (275, 1), (276, 1), (277, 1), (278, 1), (279, 1), (280, 1), (281, 1), (282, 2), (283, 1), (284, 1), (285, 1), (286, 1), (287, 1), (288, 1), (289, 1), (290, 1), (291, 1), (292, 1), (293, 1), (294, 1), (295, 1), (296, 1), (297, 1), (298, 2), (299, 1), (300, 1), (301, 1), (302, 1), (303, 1), (304, 3), (305, 1), (306, 1), (307, 1), (308, 1), (309, 1), (310, 2), (311, 1), (312, 1), (313, 5), (314, 1), (315, 1)]]\n"
          ],
          "name": "stdout"
        }
      ]
    },
    {
      "cell_type": "code",
      "metadata": {
        "colab": {
          "base_uri": "https://localhost:8080/"
        },
        "id": "zFTDH815spsA",
        "outputId": "935dcef9-dbe7-4788-93ab-7d172ad37f09"
      },
      "source": [
        "# Human readable format of corpus (term-frequency)\n",
        "[[(id2word[id], freq) for id, freq in cp] for cp in corpus[:1]]"
      ],
      "execution_count": null,
      "outputs": [
        {
          "output_type": "execute_result",
          "data": {
            "text/plain": [
              "[[('acquisition', 2),\n",
              "  ('aim', 1),\n",
              "  ('alone', 1),\n",
              "  ('annually', 1),\n",
              "  ('bn', 1),\n",
              "  ('business', 1),\n",
              "  ('capacity', 1),\n",
              "  ('combination', 1),\n",
              "  ('combine', 1),\n",
              "  ('company', 3),\n",
              "  ('complete', 2),\n",
              "  ('conference', 1),\n",
              "  ('could', 2),\n",
              "  ('country', 1),\n",
              "  ('create', 1),\n",
              "  ('cut', 3),\n",
              "  ('decision', 1),\n",
              "  ('due', 1),\n",
              "  ('dutch', 1),\n",
              "  ('employee', 1),\n",
              "  ('fallmr', 1),\n",
              "  ('firm', 4),\n",
              "  ('form', 1),\n",
              "  ('global', 1),\n",
              "  ('go', 1),\n",
              "  ('however', 1),\n",
              "  ('huge', 1),\n",
              "  ('indianborn', 1),\n",
              "  ('industry', 1),\n",
              "  ('invest', 2),\n",
              "  ('investor', 2),\n",
              "  ('ispat', 1),\n",
              "  ('job', 3),\n",
              "  ('jobsmittal', 1),\n",
              "  ('kind', 1),\n",
              "  ('large', 2),\n",
              "  ('magnate', 1),\n",
              "  ('make', 2),\n",
              "  ('many', 1),\n",
              "  ('merge', 1),\n",
              "  ('mittal', 3),\n",
              "  ('modernisation', 1),\n",
              "  ('netherlandsbased', 1),\n",
              "  ('next', 1),\n",
              "  ('operation', 2),\n",
              "  ('own', 1),\n",
              "  ('particularly', 1),\n",
              "  ('previously', 1),\n",
              "  ('producer', 1),\n",
              "  ('production', 1),\n",
              "  ('reduce', 1),\n",
              "  ('romania', 1),\n",
              "  ('sale', 1),\n",
              "  ('say', 3),\n",
              "  ('see', 1),\n",
              "  ('shed', 1),\n",
              "  ('spokeman', 1),\n",
              "  ('spokesman', 1),\n",
              "  ('staff', 1),\n",
              "  ('state', 1),\n",
              "  ('steel', 5),\n",
              "  ('sustainable', 1),\n",
              "  ('technology', 1),\n",
              "  ('tell', 3),\n",
              "  ('trimmed', 1),\n",
              "  ('try', 1),\n",
              "  ('want', 1),\n",
              "  ('workforce', 1),\n",
              "  ('world_larg', 1),\n",
              "  ('would', 3),\n",
              "  ('year', 1),\n",
              "  ('yet', 1)]]"
            ]
          },
          "metadata": {
            "tags": []
          },
          "execution_count": 45
        }
      ]
    },
    {
      "cell_type": "markdown",
      "metadata": {
        "id": "ZQUa8pYZ0zl5"
      },
      "source": [
        "## Model Building"
      ]
    },
    {
      "cell_type": "markdown",
      "metadata": {
        "id": "xlJJ8MBN6hIr"
      },
      "source": [
        "In NLP, the **Latent Dirichlet Allocation (LDA)** is a generative statistical model that enables a series of results to be explained by unobserved classes explaining why individual sections of the data are similar. LDA is a three-level Bayesian hierarchical model in which each object in the array is modeled as a finite mixture over the underlying set of topics.\r\n",
        "\r\n",
        "Gensim is an open-source library for unsupervised topic modeling and natural language processing, using modern statistical machine learning. Gensim is implemented in Python and Cython."
      ]
    },
    {
      "cell_type": "code",
      "metadata": {
        "id": "za52akA_ssez"
      },
      "source": [
        "# Build LDA model\n",
        "lda_model = gensim.models.ldamodel.LdaModel(corpus=corpus, id2word=id2word, num_topics=5, random_state=100, \n",
        "                                     update_every=1, chunksize=100, passes=10, alpha='auto', per_word_topics=True)"
      ],
      "execution_count": null,
      "outputs": []
    },
    {
      "cell_type": "code",
      "metadata": {
        "colab": {
          "base_uri": "https://localhost:8080/"
        },
        "id": "IQao0JCDsuwb",
        "outputId": "bbf62cfa-addc-432d-d7bd-9a5d48f826fb"
      },
      "source": [
        "# Print the Keyword in the 10 topics\n",
        "pprint(lda_model.print_topics())\n",
        "doc_lda = lda_model[corpus]"
      ],
      "execution_count": null,
      "outputs": [
        {
          "output_type": "stream",
          "text": [
            "[(0,\n",
            "  '0.034*\"say\" + 0.008*\"use\" + 0.007*\"court\" + 0.007*\"system\" + 0.006*\"charge\" '\n",
            "  '+ 0.005*\"take\" + 0.005*\"attack\" + 0.005*\"would\" + 0.005*\"case\" + '\n",
            "  '0.005*\"claim\"'),\n",
            " (1,\n",
            "  '0.010*\"penalty\" + 0.008*\"point\" + 0.008*\"nadal\" + 0.008*\"tiebreak\" + '\n",
            "  '0.007*\"minute\" + 0.006*\"lead\" + 0.006*\"hold\" + 0.006*\"rise\" + 0.006*\"earn\" '\n",
            "  '+ 0.006*\"pressure\"'),\n",
            " (2,\n",
            "  '0.024*\"game\" + 0.023*\"play\" + 0.016*\"player\" + 0.014*\"win\" + 0.014*\"first\" '\n",
            "  '+ 0.012*\"take\" + 0.011*\"good\" + 0.011*\"go\" + 0.009*\"match\" + 0.009*\"set\"'),\n",
            " (3,\n",
            "  '0.018*\"say\" + 0.014*\"use\" + 0.012*\"technology\" + 0.011*\"people\" + '\n",
            "  '0.008*\"user\" + 0.007*\"service\" + 0.007*\"also\" + 0.007*\"make\" + 0.007*\"firm\" '\n",
            "  '+ 0.007*\"new\"'),\n",
            " (4,\n",
            "  '0.039*\"say\" + 0.018*\"would\" + 0.009*\"go\" + 0.009*\"could\" + 0.008*\"make\" + '\n",
            "  '0.008*\"come\" + 0.007*\"side\" + 0.007*\"want\" + 0.007*\"people\" + '\n",
            "  '0.006*\"think\"')]\n"
          ],
          "name": "stdout"
        }
      ]
    },
    {
      "cell_type": "markdown",
      "metadata": {
        "id": "k0nyxz7H2NKT"
      },
      "source": [
        "## Evaluating the Model"
      ]
    },
    {
      "cell_type": "markdown",
      "metadata": {
        "id": "waE1V59G2Sq6"
      },
      "source": [
        "**Perplexity** is a way of evaluating language models. A language model is a probability distribution over entire sentences or texts. It is an evaluation metric for a language model. Lower the perplexity better is the model.\r\n",
        "\r\n",
        "A sequence of statements or statements is said to be coherent if they support each other.**Topic Coherence** metrics, scores a single topic by calculating the degree of semantic similarity between high-scoring words in the topic. These measurements help differentiate between topics that are semantically interpretable and topics that are mathematical inference objects.\r\n"
      ]
    },
    {
      "cell_type": "code",
      "metadata": {
        "colab": {
          "base_uri": "https://localhost:8080/"
        },
        "id": "8YEPt0iVsx6w",
        "outputId": "f869d885-4b17-4ba2-9fe4-53a7163de956"
      },
      "source": [
        "# Compute Perplexity\n",
        "print('\\nPerplexity: ', lda_model.log_perplexity(corpus))  # a measure of how good the model is lower the better.\n",
        "\n",
        "# Compute Coherence Score\n",
        "coherence_model_lda = CoherenceModel(model=lda_model, texts=data_lemmatized, dictionary=id2word, coherence='c_v')\n",
        "coherence_lda = coherence_model_lda.get_coherence()\n",
        "print('\\nCoherence Score: ', coherence_lda)"
      ],
      "execution_count": null,
      "outputs": [
        {
          "output_type": "stream",
          "text": [
            "\n",
            "Perplexity:  -8.110963435242112\n",
            "\n",
            "Coherence Score:  0.3807406211561901\n"
          ],
          "name": "stdout"
        }
      ]
    },
    {
      "cell_type": "markdown",
      "metadata": {
        "id": "oOqBmlqt6Nap"
      },
      "source": [
        "## Model Visualization"
      ]
    },
    {
      "cell_type": "code",
      "metadata": {
        "colab": {
          "base_uri": "https://localhost:8080/",
          "height": 881
        },
        "id": "VjI2j0ens01a",
        "outputId": "143a7023-3718-4066-bdd3-542fa61291fc"
      },
      "source": [
        "# Visualize the topics\n",
        "pyLDAvis.enable_notebook()\n",
        "vis = pyLDAvis.gensim.prepare(lda_model, corpus, id2word)\n",
        "vis"
      ],
      "execution_count": null,
      "outputs": [
        {
          "output_type": "execute_result",
          "data": {
            "text/html": [
              "\n",
              "<link rel=\"stylesheet\" type=\"text/css\" href=\"https://cdn.rawgit.com/bmabey/pyLDAvis/files/ldavis.v1.0.0.css\">\n",
              "\n",
              "\n",
              "<div id=\"ldavis_el641397454774242567916773808\"></div>\n",
              "<script type=\"text/javascript\">\n",
              "\n",
              "var ldavis_el641397454774242567916773808_data = {\"mdsDat\": {\"x\": [-0.14184271157418415, -0.13501524472679893, 0.016014716339570842, -0.02671986452034287, 0.2875631044817549], \"y\": [-0.009129975716083868, 0.22118595885384246, -0.09198379752311998, -0.20545141513729542, 0.08537922952265678], \"topics\": [1, 2, 3, 4, 5], \"cluster\": [1, 1, 1, 1, 1], \"Freq\": [35.565428942131376, 21.185830933559572, 20.579678358998237, 17.569256545641586, 5.099805219669235]}, \"tinfo\": {\"Term\": [\"game\", \"play\", \"say\", \"player\", \"technology\", \"win\", \"use\", \"would\", \"good\", \"point\", \"first\", \"match\", \"side\", \"user\", \"beat\", \"title\", \"final\", \"court\", \"net\", \"go\", \"computer\", \"set\", \"roddick\", \"software\", \"second\", \"firm\", \"mobile\", \"pressure\", \"phone\", \"system\", \"side\", \"club\", \"defeat\", \"goal\", \"labour\", \"election\", \"wale\", \"party\", \"round\", \"miss\", \"arsenal\", \"safin\", \"belief\", \"connor\", \"premiership\", \"football\", \"leader\", \"nation\", \"referee\", \"little_bit\", \"captain\", \"confident\", \"tax\", \"tory\", \"energy\", \"unlikely\", \"unable\", \"leicester\", \"opponent\", \"conservative\", \"country\", \"hewitt\", \"view\", \"team\", \"serve\", \"tough\", \"job\", \"talk\", \"confidence\", \"difficult\", \"would\", \"insist\", \"better\", \"say\", \"want\", \"need\", \"add\", \"opportunity\", \"think\", \"could\", \"lose\", \"come\", \"back\", \"go\", \"change\", \"government\", \"give\", \"still\", \"make\", \"problem\", \"people\", \"get\", \"put\", \"see\", \"way\", \"time\", \"also\", \"try\", \"take\", \"work\", \"year\", \"win\", \"look\", \"beat\", \"season\", \"have\", \"career\", \"champion\", \"tournament\", \"title\", \"tennis\", \"winner\", \"young\", \"championship\", \"tv\", \"crowd\", \"sport\", \"love\", \"squad\", \"federer\", \"black\", \"favourite\", \"award\", \"straight\", \"spaniard\", \"surface\", \"star\", \"clay\", \"radio\", \"irish\", \"nervous\", \"screen\", \"disappointment\", \"australian_open\", \"victory\", \"game\", \"film\", \"play\", \"yearold\", \"finish\", \"player\", \"injury\", \"roddick\", \"final\", \"coach\", \"event\", \"good\", \"win\", \"first\", \"really\", \"woman\", \"match\", \"second\", \"top\", \"set\", \"take\", \"go\", \"be\", \"year\", \"time\", \"world\", \"last\", \"show\", \"make\", \"get\", \"come\", \"also\", \"open\", \"think\", \"technology\", \"user\", \"software\", \"mobile\", \"online\", \"device\", \"sell\", \"broadband\", \"machine\", \"computer\", \"gadget\", \"search\", \"download\", \"industry\", \"web\", \"program\", \"rival\", \"gamer\", \"digital\", \"apple\", \"store\", \"model\", \"gaming\", \"operator\", \"blog\", \"format\", \"handset\", \"wireless\", \"console\", \"car\", \"phone\", \"customer\", \"pc\", \"chip\", \"network\", \"site\", \"market\", \"internet\", \"buy\", \"datum\", \"consumer\", \"sale\", \"firm\", \"net\", \"use\", \"service\", \"company\", \"people\", \"offer\", \"many\", \"new\", \"say\", \"also\", \"make\", \"launch\", \"year\", \"could\", \"help\", \"way\", \"court\", \"case\", \"security\", \"ban\", \"law\", \"statement\", \"email\", \"protect\", \"trial\", \"victim\", \"injure\", \"hear\", \"police\", \"refuse\", \"dope\", \"legal\", \"quit\", \"defend\", \"apologise\", \"suspend\", \"determine\", \"window\", \"monitor\", \"respond\", \"withdraw\", \"care\", \"illegal\", \"traffic\", \"preparation\", \"iaaf\", \"celtic\", \"charge\", \"evidence\", \"system\", \"attack\", \"replace\", \"order\", \"there\", \"rule\", \"say\", \"decision\", \"claim\", \"use\", \"send\", \"former\", \"take\", \"could\", \"action\", \"would\", \"also\", \"call\", \"ask\", \"tell\", \"make\", \"allow\", \"nadal\", \"tiebreak\", \"serf\", \"pace\", \"setnadal\", \"yard\", \"survey\", \"ninth\", \"dip\", \"sideline\", \"setroddick\", \"doublefault\", \"ace\", \"soderle\", \"endure\", \"conversion\", \"shrug\", \"biarritz\", \"successive\", \"adelaide\", \"capt\", \"volley\", \"offside\", \"holdroddick\", \"pointnadal\", \"stepanek\", \"henman\", \"paterson\", \"defensive\", \"stoke\", \"break_point\", \"penalty\", \"economy\", \"earn\", \"visitor\", \"rise\", \"rate\", \"knock\", \"save\", \"ball\", \"minute\", \"drop\", \"point\", \"pass\", \"pressure\", \"lead\", \"hold\", \"fall\", \"net\", \"set\", \"second\", \"high\", \"increase\", \"roddick\", \"force\", \"year\", \"level\", \"ahead\"], \"Freq\": [1707.0, 1677.0, 7434.0, 1176.0, 754.0, 1351.0, 1450.0, 2415.0, 1033.0, 669.0, 1352.0, 1001.0, 785.0, 505.0, 503.0, 489.0, 665.0, 382.0, 418.0, 1780.0, 418.0, 1169.0, 434.0, 391.0, 630.0, 558.0, 383.0, 323.0, 393.0, 449.0, 784.3185091958475, 356.5895815145791, 344.3319951715827, 336.7734144046304, 231.87712506711742, 202.24850903449465, 200.5132559186914, 184.33873800352225, 182.95180239530808, 257.2991295890903, 213.16900233394057, 189.192621462777, 154.77339048209535, 162.17448136308118, 152.68256429549254, 147.44273534692033, 128.50733051887698, 128.33315914671167, 155.78224184600106, 116.44426898014785, 113.99106842088374, 108.0771030122715, 102.61758191886958, 100.49597321669788, 102.27947898244388, 96.19816874026961, 94.68509358834389, 89.25256319008518, 87.59641464083303, 80.52595662075873, 369.32984577745293, 107.21335029420577, 128.73736341857807, 688.0006678269018, 400.40308860959175, 257.3056911419068, 232.51182911840453, 313.7637900123806, 170.44183601792216, 214.4574641764242, 1922.7372729514068, 204.5717529928799, 170.42928073897522, 4215.5501626313435, 769.9190805931, 529.3984472375657, 652.1041789398129, 223.56363764862823, 689.4973075508593, 957.0194373750029, 584.008989492108, 856.6495847744604, 578.5186354096539, 972.1889399109899, 332.52281525336844, 334.16837698951855, 576.6538925726916, 404.3722728552512, 862.3411766344477, 338.0360085869721, 727.7734697505553, 582.5324886879488, 404.4707718577233, 534.1605699043561, 482.5593071919045, 595.9361259405695, 640.1823422070878, 437.65592617407333, 586.3276908370049, 440.99348525092114, 501.14647022258356, 460.9398991842771, 396.45389186328094, 502.1288430626672, 356.033615712329, 262.00350723531767, 202.41634348668092, 199.05654899093935, 199.6043579121751, 487.2343334099152, 182.53101494440375, 161.5150863598824, 152.69064231082777, 139.94550094879156, 136.3357799076179, 137.6147122941495, 130.1450279696812, 115.39196546676199, 103.79013469699477, 107.20587515597396, 95.61442479400348, 95.65696868113568, 87.5323264758787, 90.5115786794221, 88.14975403361949, 83.05023025086008, 79.24816724363949, 84.24755504329374, 74.96591453932469, 79.9088151814174, 65.38379843674971, 64.41618808506641, 68.58712012358123, 66.45398014599591, 374.7352771022642, 1573.90421926112, 191.18868094262987, 1501.2551350728322, 235.91666300132755, 134.46592345204309, 1005.8049005647852, 264.4090558725422, 372.88992472302346, 539.7838512695225, 206.35718525505374, 286.2618512799876, 736.0503781556027, 889.7771069332683, 877.3040810839459, 437.15858473870054, 205.74553043676835, 609.8390511958535, 422.5978717184161, 251.78103798211262, 586.3807426937282, 764.1550203268878, 698.2333423814291, 317.54492771579055, 577.2943906582365, 547.3365187236622, 344.2301975734808, 376.74833958922466, 302.9574857091736, 527.863204426838, 418.5461302131619, 393.35843524887633, 391.40628718971084, 298.01331476373724, 306.18138029690283, 754.1002260422662, 504.8224612239595, 390.450434044801, 382.3757022775953, 304.2905805083872, 295.0495901095269, 296.02618422265084, 236.1108736782784, 212.4351254295142, 417.1126098952854, 200.60537790696165, 201.49185654858476, 181.7812182519721, 225.64243783434787, 154.7360479968448, 202.90349036540022, 148.5113630565659, 123.99005393495918, 118.6293370222508, 113.6755562279312, 112.01631295806637, 99.04548977754314, 98.82388106943093, 91.50793880387052, 89.32935237593493, 85.63377836856154, 83.50801120175356, 83.14014556529646, 82.14042750967998, 81.92078291288148, 389.0244746279949, 178.30658121203857, 311.7546707983157, 120.20568603284252, 288.77821919252006, 333.43329021902593, 323.55946169458485, 198.63671043913368, 245.3355524612472, 195.78999029420308, 238.63899890476256, 224.09717143291016, 446.56513808645576, 339.0539780734606, 903.133137318675, 468.19422393410963, 385.8753543560446, 708.599608745976, 339.0765544012746, 377.3743593230621, 433.71736757496535, 1124.541199412668, 457.5655049245345, 446.6518218393044, 234.32767965130796, 326.92102725569316, 300.6675910012722, 259.28705130963175, 262.77729901866826, 381.6048994511957, 269.6636211426165, 213.94798004230518, 210.38723279555248, 208.14441183599385, 204.82044849650677, 170.90726568038394, 137.17551371786172, 138.18675416718213, 134.18087611387344, 154.97918761710528, 134.32525532884964, 124.47049187326735, 131.4210651132261, 128.6276059387405, 122.33149529004251, 135.24333060473793, 119.42791595271392, 98.6894767558393, 96.59056750235766, 92.42450843327985, 90.35081972654693, 82.45882693299995, 82.43001591790541, 78.677988963409, 78.77372855251268, 73.6534588863646, 95.7926607139191, 86.27115630204085, 85.87203460461787, 97.60070463067595, 295.5042716952262, 118.49617695006506, 358.5350183078305, 278.5658882004255, 171.88885983204324, 153.31661376942276, 128.27931804229027, 233.7143311018042, 1825.8183807000767, 238.2980875552331, 265.9662366282583, 422.8101614079631, 181.264968976271, 179.02181141030493, 294.3079725232474, 258.0220760750128, 148.42598447456055, 271.8967677846877, 238.82496385117682, 178.8933648986134, 154.08076018188726, 168.49690199825685, 206.37135628525294, 149.63629644661128, 130.39916566959812, 119.43863899771571, 57.46654144496605, 54.68414456319749, 56.61897906776882, 48.156368327931204, 42.68771394835491, 43.03073544892501, 40.67002087960431, 38.595958511197836, 42.44766765424353, 42.44766765424353, 42.44766765424353, 42.3977397331193, 36.3241711531337, 36.51948243521799, 33.806547497783676, 31.646123613277343, 28.825490998045094, 39.700075929057775, 27.65853395198176, 26.070558634459644, 26.203980210736354, 28.25832580895762, 28.25832580895762, 28.197105572267095, 36.56481454132244, 22.442150010719033, 20.90267501666343, 20.907174934755623, 52.819372715789775, 153.92533816840952, 50.15112936535874, 87.21604095587188, 58.64748496744782, 93.22819207718383, 54.48119409567483, 43.773846168854014, 82.27723338554733, 85.00129236658067, 108.31733117518105, 80.13934708839778, 131.50437595055723, 60.24313022980017, 87.03610213221593, 98.26579881417749, 95.67412101822543, 64.05733100853097, 78.85686862274696, 82.77502890847614, 73.02628476348379, 57.54218783644107, 56.12477696556017, 61.08014756371582, 55.3498755094511, 64.27388436476176, 54.107196078121085, 53.98561324896026], \"Total\": [1707.0, 1677.0, 7434.0, 1176.0, 754.0, 1351.0, 1450.0, 2415.0, 1033.0, 669.0, 1352.0, 1001.0, 785.0, 505.0, 503.0, 489.0, 665.0, 382.0, 418.0, 1780.0, 418.0, 1169.0, 434.0, 391.0, 630.0, 558.0, 383.0, 323.0, 393.0, 449.0, 785.2074309445419, 357.4585346088333, 345.2269931181708, 337.67138910308023, 232.72784317414462, 203.09836119200315, 201.39746728254576, 185.19124248080112, 183.85383724258045, 258.6441226818553, 214.28805024437287, 190.23089962259385, 155.64257792201016, 163.09617462051727, 153.56781143804974, 148.33463182781614, 129.36678257791604, 129.2040501714128, 156.96627917585158, 117.33137852813006, 114.8938864307795, 108.97059493116355, 103.46787899334291, 101.3465598225767, 103.16258430575782, 97.07036947027318, 95.57440578169383, 90.12979884481967, 88.4916865583602, 81.37692073057089, 375.92686422866404, 108.4828283428038, 130.79560901348404, 729.5775784249236, 421.33129550140427, 271.2419012947036, 244.62872028555336, 338.78492314072395, 177.00410585974782, 227.0275355405384, 2415.1704105221397, 215.92859237632686, 178.33445652870182, 7434.334692076512, 1032.4052001210093, 679.7192450039583, 892.5603262699135, 247.31259058392337, 1002.1136692879282, 1562.8010632926605, 841.41808229156, 1405.5500609050855, 846.9787895988212, 1780.691250079718, 417.690445338816, 436.52552931670203, 1038.4481464523653, 613.8432785108316, 2043.4104400407264, 463.2864218475248, 1611.723474938648, 1162.0613366637385, 630.5080964718856, 1038.4879564212226, 890.5359449752807, 1392.093119644415, 1728.5489520943217, 803.044822711224, 1788.32231494993, 877.5544967007787, 1515.3749388791869, 1351.4379413236275, 765.640904712156, 503.0626912592585, 356.96777719627073, 262.93937949283884, 203.34000649725567, 199.98949581390767, 200.55645655431763, 489.83292198404223, 183.55502584973655, 162.4464296944833, 153.61761643967338, 140.8926393546082, 137.26829191475804, 138.59653639057882, 131.08844493280822, 116.31959460265456, 104.72741612626763, 108.23901103415912, 96.54428571400426, 96.58941408451173, 88.44673561835002, 91.45929432358042, 89.15121254659951, 84.0053205122322, 80.16755840104098, 85.22864119989153, 75.900983559367, 80.917982355852, 66.31395960188199, 65.34309760188576, 69.57705890894867, 67.42215045711035, 391.9495348358859, 1707.561031767146, 199.89122457447073, 1677.224355438464, 250.0110884572795, 139.5793004919843, 1176.3699333354741, 284.8950499135768, 434.7492084509298, 665.2212207712316, 234.01970339513238, 340.90959987815114, 1033.6346236388238, 1351.4379413236275, 1352.706519553408, 592.0430677340116, 240.22009092182535, 1001.1789243045133, 630.0389527445102, 326.56866389559207, 1169.29887269368, 1788.32231494993, 1780.691250079718, 501.6381627851143, 1515.3749388791869, 1392.093119644415, 626.5009141805253, 778.1243024965075, 530.9980990521094, 2043.4104400407264, 1162.0613366637385, 1405.5500609050855, 1728.5489520943217, 562.8616296524584, 1002.1136692879282, 754.8947078577731, 505.61657279271543, 391.251893499214, 383.1650105599307, 305.0856179596441, 295.84314586733996, 296.8244912849931, 236.9004330467384, 213.23040486053702, 418.7369202516638, 201.40141474949715, 202.3282906160261, 182.57012547013343, 226.66689243048896, 155.52740964860453, 204.02112215596097, 149.45056707411382, 124.7851701538009, 119.41907109442418, 114.47909243140505, 112.81137909677751, 99.83861927900476, 99.62092335064119, 92.29796094409352, 90.12899586773271, 86.43346629771926, 84.29828968502612, 83.93048511744028, 82.93562842700777, 82.7165724616049, 393.5270105623685, 180.6051651072183, 319.681448834093, 122.3534308090245, 303.8799868992022, 353.5009626504034, 344.34904936448464, 207.6104637907314, 260.5375526326652, 208.40538108975502, 262.4281226934758, 245.00160996322853, 558.6538039628132, 418.6089930303233, 1450.7040096963813, 657.7962231082406, 516.7735146715905, 1611.723474938648, 543.4779242161538, 695.8880974018512, 973.7313348639589, 7434.334692076512, 1728.5489520943217, 2043.4104400407264, 297.14076421557115, 1515.3749388791869, 1562.8010632926605, 636.6287515417356, 890.5359449752807, 382.6493066602251, 270.4575853022658, 214.7478550620932, 211.1800875136218, 208.93224393235366, 205.6133249499013, 171.75110443917643, 137.97450886681017, 139.00638147853857, 135.00490428049216, 155.9490075708199, 135.17372779155835, 125.25735328110392, 132.25270698611388, 129.44439958591403, 123.12467104813392, 136.12784369913567, 120.2676363953679, 99.48260522621095, 97.3841385301185, 93.28083687534354, 91.2246109091544, 83.27382736029733, 83.25595082805295, 79.49357882906362, 79.61033984510829, 74.44622350873831, 96.82575240287596, 87.21231966548297, 86.81356248026525, 98.71266747495315, 313.40781426854824, 124.2023879734263, 449.74815301700846, 345.88133404215426, 210.92026460388985, 186.24137806864198, 148.65529515817627, 346.6590464193946, 7434.334692076512, 419.6290147884506, 551.4460253515618, 1450.7040096963813, 314.99520604283714, 373.0528971390534, 1788.32231494993, 1562.8010632926605, 236.47471657865145, 2415.1704105221397, 1728.5489520943217, 525.693817204915, 286.36945752423014, 519.9631976810805, 2043.4104400407264, 397.33056172349956, 131.33815517204383, 120.49950145824901, 58.40950899601648, 55.61338865964791, 57.64794397695518, 49.04120377780982, 43.577743137830744, 43.95164387563149, 41.582658441542485, 39.5284864846734, 43.492852243729175, 43.492852243729175, 43.492852243729175, 43.474155239142284, 37.260046783515286, 37.472967468285454, 34.7189194468705, 32.55682341823952, 29.751307172568573, 40.98492254769629, 28.5837575426189, 26.964409380330967, 27.118149585132297, 29.336147666705028, 29.336147666705028, 29.31363381014872, 38.01661387260493, 23.34246153746482, 21.82777462676096, 21.855231258353896, 57.5113121430537, 214.7024123520085, 65.84193074515669, 136.94570685930412, 85.59343745225024, 174.53417310266724, 79.24407306827386, 59.474737785991735, 174.4271218107363, 192.45764760055783, 301.40702882998403, 196.06372598045695, 669.9550719593767, 125.23972371245388, 323.56797325040964, 559.9703692617572, 524.2725049166388, 183.63621427410845, 418.6089930303233, 1169.29887269368, 630.0389527445102, 229.6717929316294, 243.3944976247583, 434.7492084509298, 284.2530335079618, 1515.3749388791869, 292.22151657978094, 281.8899192516171], \"Category\": [\"Default\", \"Default\", \"Default\", \"Default\", \"Default\", \"Default\", \"Default\", \"Default\", \"Default\", \"Default\", \"Default\", \"Default\", \"Default\", \"Default\", \"Default\", \"Default\", \"Default\", \"Default\", \"Default\", \"Default\", \"Default\", \"Default\", \"Default\", \"Default\", \"Default\", \"Default\", \"Default\", \"Default\", \"Default\", \"Default\", \"Topic1\", \"Topic1\", \"Topic1\", \"Topic1\", \"Topic1\", \"Topic1\", \"Topic1\", \"Topic1\", \"Topic1\", \"Topic1\", \"Topic1\", \"Topic1\", \"Topic1\", \"Topic1\", \"Topic1\", \"Topic1\", \"Topic1\", \"Topic1\", \"Topic1\", \"Topic1\", \"Topic1\", \"Topic1\", \"Topic1\", \"Topic1\", \"Topic1\", \"Topic1\", \"Topic1\", \"Topic1\", \"Topic1\", \"Topic1\", \"Topic1\", \"Topic1\", \"Topic1\", \"Topic1\", \"Topic1\", \"Topic1\", \"Topic1\", \"Topic1\", \"Topic1\", \"Topic1\", \"Topic1\", \"Topic1\", \"Topic1\", \"Topic1\", \"Topic1\", \"Topic1\", \"Topic1\", \"Topic1\", \"Topic1\", \"Topic1\", \"Topic1\", \"Topic1\", \"Topic1\", \"Topic1\", \"Topic1\", \"Topic1\", \"Topic1\", \"Topic1\", \"Topic1\", \"Topic1\", \"Topic1\", \"Topic1\", \"Topic1\", \"Topic1\", \"Topic1\", \"Topic1\", \"Topic1\", \"Topic1\", \"Topic1\", \"Topic1\", \"Topic1\", \"Topic1\", \"Topic1\", \"Topic2\", \"Topic2\", \"Topic2\", \"Topic2\", \"Topic2\", \"Topic2\", \"Topic2\", \"Topic2\", \"Topic2\", \"Topic2\", \"Topic2\", \"Topic2\", \"Topic2\", \"Topic2\", \"Topic2\", \"Topic2\", \"Topic2\", \"Topic2\", \"Topic2\", \"Topic2\", \"Topic2\", \"Topic2\", \"Topic2\", \"Topic2\", \"Topic2\", \"Topic2\", \"Topic2\", \"Topic2\", \"Topic2\", \"Topic2\", \"Topic2\", \"Topic2\", \"Topic2\", \"Topic2\", \"Topic2\", \"Topic2\", \"Topic2\", \"Topic2\", \"Topic2\", \"Topic2\", \"Topic2\", \"Topic2\", \"Topic2\", \"Topic2\", \"Topic2\", \"Topic2\", \"Topic2\", \"Topic2\", \"Topic2\", \"Topic2\", \"Topic2\", \"Topic2\", \"Topic2\", \"Topic2\", \"Topic2\", \"Topic2\", \"Topic2\", \"Topic2\", \"Topic2\", \"Topic2\", \"Topic2\", \"Topic2\", \"Topic2\", \"Topic2\", \"Topic2\", \"Topic2\", \"Topic3\", \"Topic3\", \"Topic3\", \"Topic3\", \"Topic3\", \"Topic3\", \"Topic3\", \"Topic3\", \"Topic3\", \"Topic3\", \"Topic3\", \"Topic3\", \"Topic3\", \"Topic3\", \"Topic3\", \"Topic3\", \"Topic3\", \"Topic3\", \"Topic3\", \"Topic3\", \"Topic3\", \"Topic3\", \"Topic3\", \"Topic3\", \"Topic3\", \"Topic3\", \"Topic3\", \"Topic3\", \"Topic3\", \"Topic3\", \"Topic3\", \"Topic3\", \"Topic3\", \"Topic3\", \"Topic3\", \"Topic3\", \"Topic3\", \"Topic3\", \"Topic3\", \"Topic3\", \"Topic3\", \"Topic3\", \"Topic3\", \"Topic3\", \"Topic3\", \"Topic3\", \"Topic3\", \"Topic3\", \"Topic3\", \"Topic3\", \"Topic3\", \"Topic3\", \"Topic3\", \"Topic3\", \"Topic3\", \"Topic3\", \"Topic3\", \"Topic3\", \"Topic3\", \"Topic4\", \"Topic4\", \"Topic4\", \"Topic4\", \"Topic4\", \"Topic4\", \"Topic4\", \"Topic4\", \"Topic4\", \"Topic4\", \"Topic4\", \"Topic4\", \"Topic4\", \"Topic4\", \"Topic4\", \"Topic4\", \"Topic4\", \"Topic4\", \"Topic4\", \"Topic4\", \"Topic4\", \"Topic4\", \"Topic4\", \"Topic4\", \"Topic4\", \"Topic4\", \"Topic4\", \"Topic4\", \"Topic4\", \"Topic4\", \"Topic4\", \"Topic4\", \"Topic4\", \"Topic4\", \"Topic4\", \"Topic4\", \"Topic4\", \"Topic4\", \"Topic4\", \"Topic4\", \"Topic4\", \"Topic4\", \"Topic4\", \"Topic4\", \"Topic4\", \"Topic4\", \"Topic4\", \"Topic4\", \"Topic4\", \"Topic4\", \"Topic4\", \"Topic4\", \"Topic4\", \"Topic4\", \"Topic4\", \"Topic5\", \"Topic5\", \"Topic5\", \"Topic5\", \"Topic5\", \"Topic5\", \"Topic5\", \"Topic5\", \"Topic5\", \"Topic5\", \"Topic5\", \"Topic5\", \"Topic5\", \"Topic5\", \"Topic5\", \"Topic5\", \"Topic5\", \"Topic5\", \"Topic5\", \"Topic5\", \"Topic5\", \"Topic5\", \"Topic5\", \"Topic5\", \"Topic5\", \"Topic5\", \"Topic5\", \"Topic5\", \"Topic5\", \"Topic5\", \"Topic5\", \"Topic5\", \"Topic5\", \"Topic5\", \"Topic5\", \"Topic5\", \"Topic5\", \"Topic5\", \"Topic5\", \"Topic5\", \"Topic5\", \"Topic5\", \"Topic5\", \"Topic5\", \"Topic5\", \"Topic5\", \"Topic5\", \"Topic5\", \"Topic5\", \"Topic5\", \"Topic5\", \"Topic5\", \"Topic5\", \"Topic5\", \"Topic5\", \"Topic5\", \"Topic5\", \"Topic5\"], \"logprob\": [30.0, 29.0, 28.0, 27.0, 26.0, 25.0, 24.0, 23.0, 22.0, 21.0, 20.0, 19.0, 18.0, 17.0, 16.0, 15.0, 14.0, 13.0, 12.0, 11.0, 10.0, 9.0, 8.0, 7.0, 6.0, 5.0, 4.0, 3.0, 2.0, 1.0, -4.928699970245361, -5.716899871826172, -5.7519001960754395, -5.774099826812744, -6.147299766540527, -6.283999919891357, -6.292600154876709, -6.376699924468994, -6.384300231933594, -6.043300151824951, -6.231400012969971, -6.3506999015808105, -6.551499843597412, -6.504799842834473, -6.565100193023682, -6.600100040435791, -6.737500190734863, -6.738900184631348, -6.545000076293945, -6.836100101470947, -6.857399940490723, -6.910699844360352, -6.962500095367432, -6.983399868011475, -6.965799808502197, -7.027100086212158, -7.042900085449219, -7.1020002365112305, -7.120800018310547, -7.204899787902832, -5.68179988861084, -6.918700218200684, -6.7357001304626465, -5.059700012207031, -5.60099983215332, -6.0432000160217285, -6.144599914550781, -5.844900131225586, -6.455100059509277, -6.225399971008301, -4.0320000648498535, -6.272600173950195, -6.4552001953125, -3.246999979019165, -4.947199821472168, -5.321800231933594, -5.11329984664917, -6.183800220489502, -5.057499885559082, -4.729700088500977, -5.223599910736084, -4.8404998779296875, -5.232999801635742, -4.714000225067139, -5.786799907684326, -5.781899929046631, -5.236299991607666, -5.59119987487793, -4.833799839019775, -5.770299911499023, -5.003499984741211, -5.226099967956543, -5.59089994430542, -5.31279993057251, -5.414400100708008, -5.203400135040283, -5.131700038909912, -5.5121002197265625, -5.219600200653076, -5.504499912261963, -5.3765997886657715, -5.46019983291626, -5.610899925231934, -4.856599807739258, -5.200399875640869, -5.5071001052856445, -5.765100002288818, -5.781899929046631, -5.779099941253662, -4.88670015335083, -5.868500232696533, -5.990900039672852, -6.046999931335449, -6.134200096130371, -6.160299777984619, -6.151000022888184, -6.2067999839782715, -6.327099800109863, -6.43310022354126, -6.400700092315674, -6.515100002288818, -6.514699935913086, -6.603400230407715, -6.570000171661377, -6.596399784088135, -6.656000137329102, -6.702899932861328, -6.64169979095459, -6.758399963378906, -6.6946001052856445, -6.895199775695801, -6.910099983215332, -6.847400188446045, -6.878900051116943, -5.149199962615967, -3.714099884033203, -5.822199821472168, -3.761399984359741, -5.611999988555908, -6.174099922180176, -4.161900043487549, -5.498000144958496, -5.154200077056885, -4.784299850463867, -5.745800018310547, -5.418600082397461, -4.4741997718811035, -4.2845001220703125, -4.298600196838379, -4.995200157165527, -5.748799800872803, -4.662300109863281, -5.0289998054504395, -5.546899795532227, -4.701499938964844, -4.436699867248535, -4.526899814605713, -5.314799785614014, -4.717100143432617, -4.770400047302246, -5.234099864959717, -5.143899917602539, -5.3618998527526855, -4.806600093841553, -5.038700103759766, -5.1006999015808105, -5.1057000160217285, -5.378300189971924, -5.35129976272583, -4.420899868011475, -4.822199821472168, -5.079100131988525, -5.099999904632568, -5.328400135040283, -5.359300136566162, -5.355999946594238, -5.582099914550781, -5.68779993057251, -5.0131001472473145, -5.745100021362305, -5.740699768066406, -5.843599796295166, -5.627500057220459, -6.004700183868408, -5.733699798583984, -6.04580020904541, -6.226200103759766, -6.270400047302246, -6.3130998611450195, -6.3277997970581055, -6.450900077819824, -6.453100204467773, -6.53000020980835, -6.554100036621094, -6.596399784088135, -6.621500015258789, -6.625899791717529, -6.638000011444092, -6.640699863433838, -5.082799911499023, -5.8628997802734375, -5.304200172424316, -6.257199764251709, -5.380799770355225, -5.236999988555908, -5.267000198364258, -5.755000114440918, -5.543799877166748, -5.769400119781494, -5.571499824523926, -5.634399890899658, -4.944799900054932, -5.220300197601318, -4.240600109100342, -4.897500038146973, -5.09089994430542, -4.483099937438965, -5.220200061798096, -5.1132001876831055, -4.973999977111816, -4.021299839019775, -4.920499801635742, -4.944699764251709, -5.589700222015381, -5.256700038909912, -5.340400218963623, -5.488500118255615, -5.475100040435791, -4.943900108337402, -5.291100025177002, -5.522500038146973, -5.539299964904785, -5.550000190734863, -5.566100120544434, -5.747200012207031, -5.9670000076293945, -5.959700107574463, -5.989099979400635, -5.84499979019165, -5.98799991607666, -6.064199924468994, -6.009900093078613, -6.031400203704834, -6.081500053405762, -5.981200218200684, -6.105599880218506, -6.296299934387207, -6.317800045013428, -6.3618998527526855, -6.3846001625061035, -6.47599983215332, -6.47629976272583, -6.522900104522705, -6.521699905395508, -6.588900089263916, -6.326099872589111, -6.430799961090088, -6.435400009155273, -6.307400226593018, -5.1996002197265625, -6.113399982452393, -5.00629997253418, -5.258600234985352, -5.741399765014648, -5.855800151824951, -6.03410005569458, -5.434199810028076, -3.378499984741211, -5.41480016708374, -5.304900169372559, -4.841400146484375, -5.688300132751465, -5.700799942016602, -5.20359992980957, -5.33519983291626, -5.888199806213379, -5.282899856567383, -5.412499904632568, -5.701499938964844, -5.850800037384033, -5.76140022277832, -5.558599948883057, -5.880099773406982, -4.780700206756592, -4.868500232696533, -5.600100040435791, -5.649799823760986, -5.614999771118164, -5.776899814605713, -5.89739990234375, -5.889400005340576, -5.945799827575684, -5.998199939727783, -5.90310001373291, -5.90310001373291, -5.90310001373291, -5.904200077056885, -6.058800220489502, -6.053500175476074, -6.13070011138916, -6.196700096130371, -6.29010009765625, -5.96999979019165, -6.331399917602539, -6.390500068664551, -6.38539981842041, -6.309899806976318, -6.309899806976318, -6.312099933624268, -6.052199840545654, -6.54040002822876, -6.611499786376953, -6.611199855804443, -5.684500217437744, -4.6149001121521, -5.736299991607666, -5.1828999519348145, -5.579800128936768, -5.116300106048584, -5.653500080108643, -5.872300148010254, -5.241199970245361, -5.208700180053711, -4.966300010681152, -5.267600059509277, -4.772299766540527, -5.5528998374938965, -5.184999942779541, -5.063700199127197, -5.090400218963623, -5.491600036621094, -5.283699989318848, -5.235199928283691, -5.360499858856201, -5.598800182342529, -5.623799800872803, -5.539100170135498, -5.637700080871582, -5.4882001876831055, -5.660399913787842, -5.662600040435791], \"loglift\": [30.0, 29.0, 28.0, 27.0, 26.0, 25.0, 24.0, 23.0, 22.0, 21.0, 20.0, 19.0, 18.0, 17.0, 16.0, 15.0, 14.0, 13.0, 12.0, 11.0, 10.0, 9.0, 8.0, 7.0, 6.0, 5.0, 4.0, 3.0, 2.0, 1.0, 1.0327, 1.0314, 1.0312, 1.0311, 1.0301, 1.0296, 1.0294, 1.0292, 1.0289, 1.0286, 1.0286, 1.0283, 1.0282, 1.0281, 1.028, 1.0278, 1.0271, 1.027, 1.0262, 1.0262, 1.0259, 1.0256, 1.0255, 1.0254, 1.0252, 1.0248, 1.0244, 1.024, 1.0236, 1.0233, 1.0161, 1.022, 1.0179, 0.9751, 0.9828, 0.981, 0.983, 0.9571, 0.996, 0.9768, 0.8058, 0.9798, 0.9885, 0.4665, 0.7404, 0.7839, 0.7199, 0.9328, 0.6599, 0.5434, 0.6686, 0.5386, 0.6526, 0.4286, 0.8058, 0.7666, 0.4456, 0.6164, 0.1711, 0.7186, 0.2387, 0.3432, 0.5898, 0.369, 0.4211, 0.1854, 0.0405, 0.4268, -0.0814, 0.3457, -0.0727, -0.0419, 0.3756, 1.55, 1.5492, 1.5483, 1.5473, 1.5472, 1.5471, 1.5465, 1.5462, 1.5461, 1.5458, 1.5451, 1.545, 1.5447, 1.5446, 1.5438, 1.5428, 1.5422, 1.5422, 1.5421, 1.5414, 1.5414, 1.5405, 1.5404, 1.5403, 1.5403, 1.5394, 1.5393, 1.5377, 1.5376, 1.5375, 1.5374, 1.5069, 1.4703, 1.5073, 1.441, 1.4938, 1.5145, 1.3952, 1.4772, 1.3984, 1.3429, 1.426, 1.3771, 1.2123, 1.1339, 1.1188, 1.2486, 1.3969, 1.0561, 1.1525, 1.2918, 0.8616, 0.7016, 0.6156, 1.0946, 0.5868, 0.6183, 0.953, 0.8265, 0.9907, 0.1983, 0.5307, 0.2784, 0.0665, 0.9159, 0.3661, 1.5798, 1.5793, 1.5788, 1.5788, 1.5783, 1.5782, 1.5782, 1.5775, 1.5771, 1.577, 1.5769, 1.5767, 1.5765, 1.5763, 1.5758, 1.5754, 1.5746, 1.5745, 1.5742, 1.5738, 1.5738, 1.5729, 1.5728, 1.5723, 1.572, 1.5716, 1.5714, 1.5714, 1.5712, 1.5712, 1.5694, 1.5681, 1.5558, 1.5632, 1.5299, 1.5224, 1.5186, 1.5367, 1.5207, 1.5184, 1.4858, 1.4917, 1.3569, 1.3701, 1.1069, 1.2409, 1.2888, 0.7591, 1.1091, 0.9689, 0.7721, -0.3079, 0.2517, 0.0603, 1.3434, 0.0472, -0.0674, 0.6826, 0.3603, 1.7363, 1.7361, 1.7353, 1.7353, 1.7352, 1.7352, 1.7341, 1.7332, 1.7331, 1.7329, 1.7328, 1.7327, 1.7327, 1.7327, 1.7327, 1.7326, 1.7325, 1.732, 1.731, 1.7308, 1.7298, 1.7294, 1.7292, 1.729, 1.7287, 1.7285, 1.7283, 1.7283, 1.7282, 1.7281, 1.7277, 1.6802, 1.692, 1.5124, 1.5226, 1.5344, 1.5445, 1.5916, 1.3448, 0.3349, 1.1732, 1.0098, 0.5061, 1.1864, 1.0048, -0.0654, -0.0622, 1.2733, -0.4451, -0.2403, 0.6611, 1.1192, 0.6122, -0.5537, 0.7625, 2.9688, 2.9671, 2.9597, 2.9591, 2.958, 2.9578, 2.9553, 2.9548, 2.9538, 2.9521, 2.9516, 2.9516, 2.9516, 2.9509, 2.9505, 2.9502, 2.9493, 2.9476, 2.9444, 2.9441, 2.9431, 2.9423, 2.9417, 2.9385, 2.9385, 2.9371, 2.937, 2.9366, 2.9327, 2.9316, 2.8909, 2.6432, 2.7038, 2.5248, 2.5979, 2.3489, 2.6013, 2.6695, 2.2246, 2.1588, 1.9526, 2.0813, 1.3478, 2.2441, 1.6629, 1.2358, 1.2749, 1.9228, 1.3067, 0.3279, 0.821, 1.5918, 1.5089, 1.0134, 1.3398, -0.1843, 1.2894, 1.3232]}, \"token.table\": {\"Topic\": [5, 1, 2, 4, 1, 2, 3, 4, 5, 1, 2, 5, 1, 3, 4, 1, 2, 3, 4, 5, 4, 3, 1, 1, 2, 4, 1, 4, 2, 2, 1, 2, 3, 4, 1, 2, 5, 4, 1, 2, 2, 1, 1, 3, 5, 2, 3, 1, 2, 5, 3, 3, 4, 1, 2, 3, 4, 5, 1, 3, 4, 2, 4, 4, 2, 2, 1, 2, 3, 4, 3, 4, 3, 4, 1, 4, 2, 1, 2, 4, 1, 2, 3, 4, 5, 3, 4, 3, 4, 1, 5, 1, 1, 1, 3, 3, 5, 5, 1, 2, 3, 4, 1, 4, 4, 2, 3, 4, 3, 4, 5, 1, 4, 1, 4, 5, 4, 3, 1, 3, 3, 5, 2, 4, 5, 3, 1, 2, 3, 4, 5, 2, 3, 5, 1, 5, 1, 4, 5, 1, 1, 2, 4, 5, 1, 2, 3, 5, 2, 2, 2, 3, 1, 2, 2, 5, 3, 4, 1, 2, 3, 4, 5, 1, 1, 4, 5, 3, 1, 2, 4, 3, 2, 3, 3, 3, 1, 2, 3, 4, 1, 2, 3, 4, 1, 2, 3, 4, 1, 1, 2, 3, 5, 1, 4, 3, 2, 4, 1, 2, 3, 4, 2, 5, 1, 1, 2, 3, 4, 5, 1, 2, 3, 4, 5, 5, 4, 4, 1, 3, 5, 3, 4, 2, 4, 1, 4, 3, 4, 2, 1, 3, 5, 3, 5, 1, 1, 2, 3, 4, 5, 1, 3, 4, 4, 1, 2, 3, 4, 5, 1, 4, 1, 1, 5, 1, 1, 2, 3, 4, 5, 1, 2, 3, 4, 2, 3, 1, 2, 3, 4, 1, 2, 3, 4, 3, 5, 1, 2, 2, 4, 5, 1, 3, 3, 3, 4, 5, 1, 1, 3, 4, 2, 3, 5, 3, 4, 1, 2, 3, 4, 5, 1, 3, 5, 3, 1, 2, 3, 3, 1, 1, 3, 4, 3, 4, 5, 5, 1, 4, 5, 5, 1, 3, 4, 5, 1, 2, 3, 4, 3, 4, 1, 2, 2, 3, 1, 2, 3, 5, 5, 4, 1, 4, 1, 5, 1, 4, 1, 3, 4, 1, 2, 3, 4, 5, 4, 2, 1, 5, 1, 2, 1, 4, 4, 3, 4, 4, 1, 3, 5, 3, 2, 5, 1, 1, 4, 1, 3, 5, 1, 3, 5, 1, 2, 3, 4, 5, 2, 3, 2, 1, 2, 3, 4, 5, 4, 1, 2, 3, 4, 5, 3, 2, 3, 4, 5, 5, 1, 4, 1, 3, 4, 5, 1, 2, 3, 4, 5, 5, 5, 1, 2, 3, 4, 5, 5, 1, 5, 3, 4, 5, 3, 2, 2, 2, 2, 4, 5, 1, 2, 3, 4, 5, 5, 3, 2, 5, 2, 5, 4, 1, 4, 1, 2, 3, 4, 5, 1, 2, 3, 1, 1, 3, 3, 1, 2, 4, 2, 3, 4, 1, 2, 4, 5, 1, 2, 3, 4, 5, 2, 3, 1, 2, 3, 4, 1, 1, 2, 2, 4, 4, 1, 2, 3, 4, 2, 1, 1, 1, 2, 3, 4, 3, 4, 1, 2, 1, 2, 3, 5, 5, 1, 1, 2, 3, 4, 1, 2, 3, 4, 3, 1, 2, 4, 2, 3, 4, 1, 2, 4, 1, 2, 3, 4, 1, 2, 3, 1, 3, 4, 5, 1, 2, 3, 4, 5, 1, 2, 2], \"Freq\": [0.9656759176113953, 0.17338005767886566, 0.19452396715189807, 0.625859720401759, 0.7304828377536835, 0.0907501684939392, 0.1210002246585856, 0.058259367428207885, 0.9759686614864262, 0.5108377070819071, 0.2979886624644458, 0.19156414015571516, 0.42785533351019245, 0.19379329811932244, 0.377519411920758, 0.37025274825139987, 0.22620128838483963, 0.26496212296740806, 0.13826626067513215, 0.0005785199191428123, 0.9951488481316552, 0.9958150224531862, 0.9939891643845563, 0.42602308589308063, 0.031427932565883, 0.5377668461273313, 0.19370805361770224, 0.8066350292438645, 0.9789067769647154, 0.9949490999839984, 0.6836062568629946, 0.26092743137603075, 0.00708400266179269, 0.04840735152225005, 0.12470276083708319, 0.43126371456157936, 0.44165561129800296, 0.9944119375670508, 0.3648047807686261, 0.6339230616635143, 0.9978875570028889, 0.9958714515617176, 0.9532650240961121, 0.03925208922748697, 0.9828968750702022, 0.9943623207735296, 0.9874735554649965, 0.03477576715734111, 0.03477576715734111, 0.9215578296695395, 0.9961991076370859, 0.9403634812883509, 0.05757327436459291, 0.4108855629089573, 0.03233821559931608, 0.2149540213366304, 0.34050238778103403, 0.9795772986897013, 0.9922198956049934, 0.9913370145754345, 0.9923334098774634, 0.9934100203873371, 0.9983081069745026, 0.9927803847957611, 0.9950522610706094, 0.9936644003640137, 0.7972411236983933, 0.01915293990867011, 0.09337058205476678, 0.09097646456618302, 0.05424242544709907, 0.9444563489612544, 0.9807653059381893, 0.008173044216151578, 0.5168230196569188, 0.4823681516797909, 0.9855841747258421, 0.9987172369255778, 0.88026775955774, 0.11537490052455815, 0.6097257037206815, 0.27960583612862056, 0.06901212749230584, 0.027035678811418783, 0.014229304637588832, 0.7469423045902477, 0.2515608797842803, 0.9958520011786401, 0.0023881342953924224, 0.9604296983636208, 0.03389751876577485, 0.991093056509633, 0.9932789679275569, 0.9953682109474402, 0.9887186189487763, 0.9107255638114647, 0.08764304588980623, 0.9873784357033977, 0.6123620097773032, 0.0300742052868686, 0.1926028891776053, 0.16508819072366168, 0.9815739046931994, 0.015960551295824382, 0.9983031286116987, 0.9956958780780948, 0.9855753565759222, 0.01107388041096542, 0.9404747563384059, 0.014395021780689887, 0.043185065342069666, 0.4313333769144832, 0.5671676447825801, 0.996445836673754, 0.9894598710562443, 0.9620770032256929, 0.9862690246116124, 0.9971500239937348, 0.9426169362693356, 0.05285702446370106, 0.9964907523514999, 0.9859879463367741, 0.9917061899712686, 0.9965668689619973, 0.9656759176113953, 0.9968772247449285, 0.2091156831533782, 0.32132409850397137, 0.04590344264342448, 0.015301147547808161, 0.4080306012748843, 0.18255409806810963, 0.18255409806810963, 0.6352882612770215, 0.22781834964800748, 0.7593944988266916, 0.9945919741274288, 0.9956267853902364, 0.9661823617443025, 0.9887305624070826, 0.15839976351296892, 0.8389320808279466, 0.9500622486038406, 0.0402568749408407, 0.33217848800208366, 0.15792092052558077, 0.15792092052558077, 0.3485151349530058, 0.9938977362053774, 0.9885530085472778, 0.9555196853018515, 0.040021766923637764, 0.187907415002606, 0.8117600328112579, 0.9600277371191962, 0.028657544391617797, 0.8001377540602133, 0.20048194285177603, 0.24986942482659852, 0.6483298389731565, 0.08353622782664388, 0.0014785173066662633, 0.016263690373328896, 0.9910025608223079, 0.4221590831207043, 0.3834611671679731, 0.19348957976365616, 0.9949849714897908, 0.25465557492933577, 0.26269732992710426, 0.4798247148668537, 0.9980068921065106, 0.9217825721702466, 0.07788887045657103, 0.9937078247933375, 0.9937671391736081, 0.5016946882285789, 0.3605661652963543, 0.13424420474040877, 0.003442159095907917, 0.5556367951266478, 0.265781205294549, 0.053926621364111395, 0.12518679959525858, 0.5458554367336199, 0.3919826078601509, 0.043803214058870735, 0.01797054935748543, 0.9980117086470857, 0.26895383885393115, 0.7120504510665228, 0.008707138667933023, 0.009674598519925581, 0.7651327988143413, 0.23366330981755332, 0.9964614977819757, 0.9964273913833267, 0.9913168941129724, 0.5639079277060659, 0.01570774171883192, 0.40683051051774666, 0.012566193375065534, 0.02630428904980956, 0.9732586948429537, 0.9863312160509119, 0.3962175713370672, 0.06531058868193415, 0.25688831548227437, 0.03047827471823594, 0.25253427623681207, 0.33761068593162946, 0.25368486570003795, 0.08201841522632805, 0.14305537539475824, 0.18311088050529054, 0.9544538812019451, 0.990628624640877, 0.9940060961092817, 0.40263851876835266, 0.3656615119426876, 0.2300791535819158, 0.9970578304429992, 0.9939146289828812, 0.9266570271406422, 0.07020128993489715, 0.9493879330381584, 0.05094276713863289, 0.9585258679475297, 0.03853370323407155, 0.9886553973650133, 0.9524637979057438, 0.04496610204705228, 0.004087827458822934, 0.25220792152080734, 0.7398099031277016, 0.9968725565268957, 0.33542198741591345, 0.48449842626743056, 0.02827311771321876, 0.11694789599558669, 0.03598396799864206, 0.1278855161469248, 0.7875055467994843, 0.0841352079913979, 0.9955380561908123, 0.30894491833215454, 0.3303746236499918, 0.055360072071079715, 0.1303640406835103, 0.17500926009567136, 0.9971647854989736, 0.9908655914484089, 0.9874647579457612, 0.811028574397585, 0.18479132074881685, 0.9886528348611291, 0.5172137454553539, 0.26774953994532213, 0.20636306005541902, 0.007836571900838696, 0.0013060953168064495, 0.6940663770969899, 0.2828558180634993, 0.008319288766573509, 0.015450107709350803, 0.9886554401503695, 0.9942296931746588, 0.4218437877721814, 0.25839155445906237, 0.21875194099091078, 0.10081185647455844, 0.32620187189222094, 0.056043493408795664, 0.5417537696183581, 0.0761616705299018, 0.9409057483909424, 0.05808060175252731, 0.39053958339326317, 0.6092817029920474, 0.5607035796611385, 0.0763087711964863, 0.3583194473574139, 0.9936433015960016, 0.0038663163486225742, 0.9969595069282859, 0.9916002516354799, 0.9847031486281288, 0.9898113752984353, 0.9906810183595993, 0.7782625015964045, 0.18831304386453643, 0.0323663044142172, 0.9801857767237789, 0.8098249336354879, 0.18872026477051193, 0.9510333436201643, 0.04936159222942029, 0.3851164962791217, 0.09140098178357821, 0.44570815836037014, 0.07702329925582434, 0.9783479344180089, 0.3753602325139971, 0.623760386383554, 0.9587674822125278, 0.9964415957497292, 0.39618973518889966, 0.529437403974404, 0.07461869451988244, 0.9967717494401204, 0.9944436977361039, 0.9057363374469508, 0.08491278163565164, 0.008086931584347775, 0.16108128231817026, 0.8215145398226683, 0.016108128231817027, 0.988970485805103, 0.9935675010068329, 0.5110199711629978, 0.47908122296531047, 0.9424884331367469, 0.021896797657573283, 0.975971552737552, 0.2794565712733069, 0.7172718662681544, 0.451690386918086, 0.04032949883197196, 0.43990176418258653, 0.06824992110026025, 0.9884963155238081, 0.010164486534949184, 0.10433905245446491, 0.8949309584808676, 0.8551731657639294, 0.14451236399589265, 0.5597390268324417, 0.20598396187433857, 0.03731593512216278, 0.19702813744501949, 0.9544538812019451, 0.9899618405772781, 0.99630253610615, 0.9860992154533555, 0.7293676120947833, 0.268877043441721, 0.7295702702706045, 0.26981149048469105, 0.004901453287937337, 0.9949950174512795, 0.9929370368859157, 0.6407530724199264, 0.15860224564849662, 0.11895168423637247, 0.045994651238064024, 0.03647851649915422, 0.9917148199186319, 0.9881294876941576, 0.3028617670790654, 0.6814389759278972, 0.2601162117975983, 0.7381219776334444, 0.9938440333750344, 0.0063707950857374, 0.9905279293357269, 0.1801628689939506, 0.8154740386041974, 0.9849145818940097, 0.21772240544347177, 0.24637009037024435, 0.5328469396379704, 0.996985176550783, 0.8579659094240779, 0.14031077875299933, 0.9953558910959586, 0.32308402494276844, 0.6750148378268555, 0.9935294443487579, 0.9142797062991521, 0.08163211663385286, 0.4930425905514571, 0.034398320271031894, 0.47011037703743586, 0.5670984929550452, 0.03577993337904223, 0.1513249062083553, 0.24561713665462823, 0.00026902205548152053, 0.9794454555847839, 0.9934349733693599, 0.9972888948020129, 0.12380186917050844, 0.6713870597323727, 0.08094737599610168, 0.007936017254519772, 0.11586585191598867, 0.9965175202244653, 0.5142091409901758, 0.2388087396358869, 0.19258769325474748, 0.03370284631958081, 0.020221707791748485, 0.9972222936139004, 0.034921166382780054, 0.2254002557433985, 0.5746119195711991, 0.16508187744586933, 0.9758685012039289, 0.9493716803637408, 0.04746858401818704, 0.10337547953480812, 0.7114665356219146, 0.11401707301633247, 0.07145069909023502, 0.31471851089041847, 0.501155020059199, 0.08979740120514658, 0.023090760309894834, 0.07098270761930633, 0.9887603280836139, 0.9656759176113953, 0.060263869225000155, 0.5706235117242202, 0.24670521463984438, 0.07156334470468768, 0.05084763965859388, 0.9792931502960325, 0.9984622777409411, 0.9866302372877769, 0.94200592129454, 0.05657693220988228, 0.9660912275113049, 0.9968002876918561, 0.9870869670337039, 0.991696865933789, 0.9930541958049399, 0.9854360239437476, 0.9970170953168976, 0.9551869338801005, 0.6581484462615504, 0.1466172281275731, 0.15964987062780184, 0.01791988343781449, 0.016290803125285903, 0.9608683500877166, 0.9928076484546701, 0.9949781558344912, 0.9747470869696342, 0.9880326566686236, 0.9867422428003346, 0.9960554302177279, 0.20233546127883395, 0.7982245120780372, 0.3276814224713217, 0.42721605250527267, 0.07493056418286195, 0.16439989455045834, 0.0050326498331772955, 0.9268417174207342, 0.008855175644147142, 0.06493795472374571, 0.9954780266311151, 0.9430114361317341, 0.05619690244389694, 0.9988147911907979, 0.6327370888310295, 0.04231068679113267, 0.3230997900413768, 0.9969762426979749, 0.13453943889936146, 0.8610524089559133, 0.6875467535430213, 0.305354581399368, 0.005987344733320941, 0.9875559530114025, 0.4281322790764438, 0.392933484320159, 0.11780821102103488, 0.05674907726013265, 0.004310056500769569, 0.9942165545497277, 0.004083024864680606, 0.08880215160286062, 0.7716600759972715, 0.08574000844414129, 0.052056433698228634, 0.9867133149370432, 0.9474937270874317, 0.0479276982573409, 0.9972254368476693, 0.9914717687972086, 0.9927601778577774, 0.545424100389855, 0.29761726025839125, 0.04731989912058103, 0.10958292427924028, 0.9907604888422038, 0.9939899623021894, 0.9889732626329297, 0.07031069006374888, 0.015165050798063483, 0.6224564032114238, 0.2915825676173115, 0.99878055264425, 0.9925565349951708, 0.040821581805676584, 0.9567558235705449, 0.9862716414791958, 0.007645516600613921, 0.30376160572479105, 0.6893051822216412, 0.9642339883389232, 0.9980264534211438, 0.7458311909991808, 0.12398232785440928, 0.12204510398168414, 0.008717507427263153, 0.5423700219236035, 0.14822534760645065, 0.2953277759128525, 0.014597950900635292, 0.996608895822311, 0.3411181423162403, 0.6585578018686635, 0.9865758713909569, 0.9972518343719655, 0.9889136215984181, 0.993790959768902, 0.13737402177047367, 0.8575469237793205, 0.004162849144559808, 0.5025328930088869, 0.18916204135935424, 0.25525480279816476, 0.05355792737282921, 0.2920985362636978, 0.5490814015011587, 0.158020519618066, 0.7962171081684722, 0.09109088080970561, 0.11262145263745421, 0.9787687964894339, 0.33061124817766446, 0.38076385269164154, 0.215788179948296, 0.03035552378477558, 0.04223377222229646, 0.05199769370317896, 0.9439581318423257, 0.9959795207477657], \"Term\": [\"ace\", \"action\", \"action\", \"action\", \"add\", \"add\", \"add\", \"add\", \"adelaide\", \"ahead\", \"ahead\", \"ahead\", \"allow\", \"allow\", \"allow\", \"also\", \"also\", \"also\", \"also\", \"also\", \"apologise\", \"apple\", \"arsenal\", \"ask\", \"ask\", \"ask\", \"attack\", \"attack\", \"australian_open\", \"award\", \"back\", \"back\", \"back\", \"back\", \"ball\", \"ball\", \"ball\", \"ban\", \"be\", \"be\", \"beat\", \"belief\", \"better\", \"better\", \"biarritz\", \"black\", \"blog\", \"break_point\", \"break_point\", \"break_point\", \"broadband\", \"buy\", \"buy\", \"call\", \"call\", \"call\", \"call\", \"capt\", \"captain\", \"car\", \"care\", \"career\", \"case\", \"celtic\", \"champion\", \"championship\", \"change\", \"change\", \"change\", \"change\", \"charge\", \"charge\", \"chip\", \"chip\", \"claim\", \"claim\", \"clay\", \"club\", \"coach\", \"coach\", \"come\", \"come\", \"come\", \"come\", \"come\", \"company\", \"company\", \"computer\", \"computer\", \"confidence\", \"confidence\", \"confident\", \"connor\", \"conservative\", \"console\", \"consumer\", \"consumer\", \"conversion\", \"could\", \"could\", \"could\", \"could\", \"country\", \"country\", \"court\", \"crowd\", \"customer\", \"customer\", \"datum\", \"datum\", \"datum\", \"decision\", \"decision\", \"defeat\", \"defend\", \"defensive\", \"determine\", \"device\", \"difficult\", \"difficult\", \"digital\", \"dip\", \"disappointment\", \"dope\", \"doublefault\", \"download\", \"drop\", \"drop\", \"drop\", \"drop\", \"drop\", \"earn\", \"earn\", \"earn\", \"economy\", \"economy\", \"election\", \"email\", \"endure\", \"energy\", \"event\", \"event\", \"evidence\", \"evidence\", \"fall\", \"fall\", \"fall\", \"fall\", \"favourite\", \"federer\", \"film\", \"film\", \"final\", \"final\", \"finish\", \"finish\", \"firm\", \"firm\", \"first\", \"first\", \"first\", \"first\", \"first\", \"football\", \"force\", \"force\", \"force\", \"format\", \"former\", \"former\", \"former\", \"gadget\", \"game\", \"game\", \"gamer\", \"gaming\", \"get\", \"get\", \"get\", \"get\", \"give\", \"give\", \"give\", \"give\", \"go\", \"go\", \"go\", \"go\", \"goal\", \"good\", \"good\", \"good\", \"good\", \"government\", \"government\", \"handset\", \"have\", \"hear\", \"help\", \"help\", \"help\", \"help\", \"henman\", \"henman\", \"hewitt\", \"high\", \"high\", \"high\", \"high\", \"high\", \"hold\", \"hold\", \"hold\", \"hold\", \"hold\", \"holdroddick\", \"iaaf\", \"illegal\", \"increase\", \"increase\", \"increase\", \"industry\", \"injure\", \"injury\", \"injury\", \"insist\", \"insist\", \"internet\", \"internet\", \"irish\", \"job\", \"job\", \"job\", \"knock\", \"knock\", \"labour\", \"last\", \"last\", \"last\", \"last\", \"last\", \"launch\", \"launch\", \"launch\", \"law\", \"lead\", \"lead\", \"lead\", \"lead\", \"lead\", \"leader\", \"legal\", \"leicester\", \"level\", \"level\", \"little_bit\", \"look\", \"look\", \"look\", \"look\", \"look\", \"lose\", \"lose\", \"lose\", \"lose\", \"love\", \"machine\", \"make\", \"make\", \"make\", \"make\", \"many\", \"many\", \"many\", \"many\", \"market\", \"market\", \"match\", \"match\", \"minute\", \"minute\", \"minute\", \"miss\", \"miss\", \"mobile\", \"model\", \"monitor\", \"nadal\", \"nation\", \"need\", \"need\", \"need\", \"nervous\", \"net\", \"net\", \"network\", \"network\", \"new\", \"new\", \"new\", \"new\", \"ninth\", \"offer\", \"offer\", \"offside\", \"online\", \"open\", \"open\", \"open\", \"operator\", \"opponent\", \"opportunity\", \"opportunity\", \"opportunity\", \"order\", \"order\", \"order\", \"pace\", \"party\", \"pass\", \"pass\", \"paterson\", \"pc\", \"pc\", \"penalty\", \"penalty\", \"people\", \"people\", \"people\", \"people\", \"phone\", \"phone\", \"play\", \"play\", \"player\", \"player\", \"point\", \"point\", \"point\", \"point\", \"pointnadal\", \"police\", \"premiership\", \"preparation\", \"pressure\", \"pressure\", \"problem\", \"problem\", \"program\", \"program\", \"protect\", \"put\", \"put\", \"put\", \"put\", \"put\", \"quit\", \"radio\", \"rate\", \"rate\", \"really\", \"really\", \"referee\", \"referee\", \"refuse\", \"replace\", \"replace\", \"respond\", \"rise\", \"rise\", \"rise\", \"rival\", \"roddick\", \"roddick\", \"round\", \"rule\", \"rule\", \"safin\", \"sale\", \"sale\", \"save\", \"save\", \"save\", \"say\", \"say\", \"say\", \"say\", \"say\", \"screen\", \"search\", \"season\", \"second\", \"second\", \"second\", \"second\", \"second\", \"security\", \"see\", \"see\", \"see\", \"see\", \"see\", \"sell\", \"send\", \"send\", \"send\", \"send\", \"serf\", \"serve\", \"serve\", \"service\", \"service\", \"service\", \"service\", \"set\", \"set\", \"set\", \"set\", \"set\", \"setnadal\", \"setroddick\", \"show\", \"show\", \"show\", \"show\", \"show\", \"shrug\", \"side\", \"sideline\", \"site\", \"site\", \"soderle\", \"software\", \"spaniard\", \"sport\", \"squad\", \"star\", \"statement\", \"stepanek\", \"still\", \"still\", \"still\", \"still\", \"still\", \"stoke\", \"store\", \"straight\", \"successive\", \"surface\", \"survey\", \"suspend\", \"system\", \"system\", \"take\", \"take\", \"take\", \"take\", \"take\", \"talk\", \"talk\", \"talk\", \"tax\", \"team\", \"team\", \"technology\", \"tell\", \"tell\", \"tell\", \"tennis\", \"there\", \"there\", \"think\", \"think\", \"think\", \"tiebreak\", \"time\", \"time\", \"time\", \"time\", \"time\", \"title\", \"title\", \"top\", \"top\", \"top\", \"top\", \"tory\", \"tough\", \"tough\", \"tournament\", \"traffic\", \"trial\", \"try\", \"try\", \"try\", \"try\", \"tv\", \"unable\", \"unlikely\", \"use\", \"use\", \"use\", \"use\", \"user\", \"victim\", \"victory\", \"victory\", \"view\", \"view\", \"visitor\", \"visitor\", \"volley\", \"wale\", \"want\", \"want\", \"want\", \"want\", \"way\", \"way\", \"way\", \"way\", \"web\", \"win\", \"win\", \"window\", \"winner\", \"wireless\", \"withdraw\", \"woman\", \"woman\", \"woman\", \"work\", \"work\", \"work\", \"work\", \"world\", \"world\", \"world\", \"would\", \"would\", \"would\", \"yard\", \"year\", \"year\", \"year\", \"year\", \"year\", \"yearold\", \"yearold\", \"young\"]}, \"R\": 30, \"lambda.step\": 0.01, \"plot.opts\": {\"xlab\": \"PC1\", \"ylab\": \"PC2\"}, \"topic.order\": [5, 3, 4, 1, 2]};\n",
              "\n",
              "function LDAvis_load_lib(url, callback){\n",
              "  var s = document.createElement('script');\n",
              "  s.src = url;\n",
              "  s.async = true;\n",
              "  s.onreadystatechange = s.onload = callback;\n",
              "  s.onerror = function(){console.warn(\"failed to load library \" + url);};\n",
              "  document.getElementsByTagName(\"head\")[0].appendChild(s);\n",
              "}\n",
              "\n",
              "if(typeof(LDAvis) !== \"undefined\"){\n",
              "   // already loaded: just create the visualization\n",
              "   !function(LDAvis){\n",
              "       new LDAvis(\"#\" + \"ldavis_el641397454774242567916773808\", ldavis_el641397454774242567916773808_data);\n",
              "   }(LDAvis);\n",
              "}else if(typeof define === \"function\" && define.amd){\n",
              "   // require.js is available: use it to load d3/LDAvis\n",
              "   require.config({paths: {d3: \"https://cdnjs.cloudflare.com/ajax/libs/d3/3.5.5/d3.min\"}});\n",
              "   require([\"d3\"], function(d3){\n",
              "      window.d3 = d3;\n",
              "      LDAvis_load_lib(\"https://cdn.rawgit.com/bmabey/pyLDAvis/files/ldavis.v1.0.0.js\", function(){\n",
              "        new LDAvis(\"#\" + \"ldavis_el641397454774242567916773808\", ldavis_el641397454774242567916773808_data);\n",
              "      });\n",
              "    });\n",
              "}else{\n",
              "    // require.js not available: dynamically load d3 & LDAvis\n",
              "    LDAvis_load_lib(\"https://cdnjs.cloudflare.com/ajax/libs/d3/3.5.5/d3.min.js\", function(){\n",
              "         LDAvis_load_lib(\"https://cdn.rawgit.com/bmabey/pyLDAvis/files/ldavis.v1.0.0.js\", function(){\n",
              "                 new LDAvis(\"#\" + \"ldavis_el641397454774242567916773808\", ldavis_el641397454774242567916773808_data);\n",
              "            })\n",
              "         });\n",
              "}\n",
              "</script>"
            ],
            "text/plain": [
              "PreparedData(topic_coordinates=              x         y  topics  cluster       Freq\n",
              "topic                                                \n",
              "4     -0.141843 -0.009130       1        1  35.565429\n",
              "2     -0.135015  0.221186       2        1  21.185831\n",
              "3      0.016015 -0.091984       3        1  20.579678\n",
              "0     -0.026720 -0.205451       4        1  17.569257\n",
              "1      0.287563  0.085379       5        1   5.099805, topic_info=             Term         Freq        Total Category  logprob  loglift\n",
              "971          game  1707.000000  1707.000000  Default  30.0000  30.0000\n",
              "735          play  1677.000000  1677.000000  Default  29.0000  29.0000\n",
              "53            say  7434.000000  7434.000000  Default  28.0000  28.0000\n",
              "101        player  1176.000000  1176.000000  Default  27.0000  27.0000\n",
              "62     technology   754.000000   754.000000  Default  26.0000  26.0000\n",
              "...           ...          ...          ...      ...      ...      ...\n",
              "20951     roddick    61.080148   434.749208   Topic5  -5.5391   1.0134\n",
              "282         force    55.349876   284.253034   Topic5  -5.6377   1.3398\n",
              "70           year    64.273884  1515.374939   Topic5  -5.4882  -0.1843\n",
              "223         level    54.107196   292.221517   Topic5  -5.6604   1.2894\n",
              "259         ahead    53.985613   281.889919   Topic5  -5.6626   1.3232\n",
              "\n",
              "[341 rows x 6 columns], token_table=       Topic      Freq     Term\n",
              "term                           \n",
              "21216      5  0.965676      ace\n",
              "258        1  0.173380   action\n",
              "258        2  0.194524   action\n",
              "258        4  0.625860   action\n",
              "126        1  0.730483      add\n",
              "...      ...       ...      ...\n",
              "70         4  0.030356     year\n",
              "70         5  0.042234     year\n",
              "5535       1  0.051998  yearold\n",
              "5535       2  0.943958  yearold\n",
              "187        2  0.995980    young\n",
              "\n",
              "[550 rows x 3 columns], R=30, lambda_step=0.01, plot_opts={'xlab': 'PC1', 'ylab': 'PC2'}, topic_order=[5, 3, 4, 1, 2])"
            ]
          },
          "metadata": {
            "tags": []
          },
          "execution_count": 53
        }
      ]
    }
  ]
}